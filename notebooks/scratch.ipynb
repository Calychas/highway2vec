{
 "cells": [
  {
   "cell_type": "code",
   "execution_count": 1,
   "metadata": {},
   "outputs": [],
   "source": [
    "%load_ext autoreload\n",
    "%autoreload 2"
   ]
  },
  {
   "cell_type": "code",
   "execution_count": 7,
   "metadata": {},
   "outputs": [],
   "source": [
    "import h3\n",
    "import pandas as pd\n",
    "import geopandas as gpd\n",
    "import numpy as np\n",
    "import folium\n",
    "from src.settings import *\n",
    "from shapely.geometry import Polygon\n",
    "from tqdm.auto import tqdm\n",
    "import matplotlib.pyplot as plt\n",
    "from src.tools.h3_utils import get_hexagons_for_edges, get_resolution_buffered_suffix\n",
    "from src.tools.osmnx_utils import generate_data_for_place, get_place_dir_name\n",
    "from src.tools.feature_extraction import generate_features_for_edges\n",
    "from pathlib import Path"
   ]
  },
  {
   "cell_type": "code",
   "execution_count": 33,
   "metadata": {},
   "outputs": [],
   "source": [
    "\n",
    "place_dir = Path(GENERATED_DATA_DIR).joinpath(get_place_dir_name(\"Wrocław,Poland\"))\n",
    "network_type = \"drive\"\n",
    "resolution = 9\n",
    "buffered = True\n",
    "\n",
    "shp_dir = join(place_dir, f\"shp_{network_type}\")\n",
    "edges_path = join(shp_dir, \"edges.shp\")\n",
    "hexagons_path = join(place_dir, f\"hex_{get_resolution_buffered_suffix(resolution, buffered)}.geojson\")\n",
    "\n",
    "hexagons: gpd.GeoDataFrame = gpd.read_file(hexagons_path, driver=\"GeoJSON\")  # type: ignore\n",
    "edges: gpd.GeoDataFrame = gpd.read_file(edges_path)  # type: ignore\n",
    "\n",
    "\n"
   ]
  },
  {
   "cell_type": "code",
   "execution_count": 35,
   "metadata": {},
   "outputs": [
    {
     "data": {
      "text/html": "<div>\n<style scoped>\n    .dataframe tbody tr th:only-of-type {\n        vertical-align: middle;\n    }\n\n    .dataframe tbody tr th {\n        vertical-align: top;\n    }\n\n    .dataframe thead th {\n        text-align: right;\n    }\n</style>\n<table border=\"1\" class=\"dataframe\">\n  <thead>\n    <tr style=\"text-align: right;\">\n      <th></th>\n      <th>u</th>\n      <th>v</th>\n      <th>key</th>\n      <th>osmid</th>\n      <th>oneway</th>\n      <th>lanes</th>\n      <th>name</th>\n      <th>highway</th>\n      <th>maxspeed</th>\n      <th>length</th>\n      <th>from</th>\n      <th>to</th>\n      <th>ref</th>\n      <th>bridge</th>\n      <th>access</th>\n      <th>junction</th>\n      <th>width</th>\n      <th>tunnel</th>\n      <th>geometry</th>\n    </tr>\n  </thead>\n  <tbody>\n    <tr>\n      <th>0</th>\n      <td>95584835</td>\n      <td>297779709</td>\n      <td>0</td>\n      <td>[24707867, 656793686]</td>\n      <td>1</td>\n      <td>2</td>\n      <td>Bardzka</td>\n      <td>tertiary</td>\n      <td>50</td>\n      <td>178.450</td>\n      <td>95584835</td>\n      <td>297779709</td>\n      <td>None</td>\n      <td>None</td>\n      <td>None</td>\n      <td>None</td>\n      <td>None</td>\n      <td>None</td>\n      <td>LINESTRING (17.04951 51.08311, 17.04947 51.083...</td>\n    </tr>\n    <tr>\n      <th>1</th>\n      <td>95584835</td>\n      <td>241778108</td>\n      <td>0</td>\n      <td>[656794402, 28458110]</td>\n      <td>1</td>\n      <td>2</td>\n      <td>Aleja Armii Krajowej</td>\n      <td>primary</td>\n      <td>50</td>\n      <td>28.882</td>\n      <td>95584835</td>\n      <td>241778108</td>\n      <td>94</td>\n      <td>None</td>\n      <td>None</td>\n      <td>None</td>\n      <td>None</td>\n      <td>None</td>\n      <td>LINESTRING (17.04951 51.08311, 17.04933 51.083...</td>\n    </tr>\n    <tr>\n      <th>2</th>\n      <td>95584835</td>\n      <td>95584852</td>\n      <td>0</td>\n      <td>[301726798, 189513998, 301726791]</td>\n      <td>1</td>\n      <td>['2', '3', '4']</td>\n      <td>Aleja Armii Krajowej</td>\n      <td>primary</td>\n      <td>50</td>\n      <td>284.438</td>\n      <td>95584852</td>\n      <td>95584835</td>\n      <td>94</td>\n      <td>None</td>\n      <td>None</td>\n      <td>None</td>\n      <td>None</td>\n      <td>None</td>\n      <td>LINESTRING (17.05357 51.08301, 17.05335 51.082...</td>\n    </tr>\n    <tr>\n      <th>3</th>\n      <td>95584835</td>\n      <td>3019848617</td>\n      <td>0</td>\n      <td>28458112</td>\n      <td>1</td>\n      <td>3</td>\n      <td>Bardzka</td>\n      <td>secondary</td>\n      <td>50</td>\n      <td>25.202</td>\n      <td>3019848617</td>\n      <td>95584835</td>\n      <td>395</td>\n      <td>None</td>\n      <td>None</td>\n      <td>None</td>\n      <td>None</td>\n      <td>None</td>\n      <td>LINESTRING (17.04960 51.08289, 17.04957 51.082...</td>\n    </tr>\n    <tr>\n      <th>4</th>\n      <td>95584841</td>\n      <td>164895026</td>\n      <td>0</td>\n      <td>27665976</td>\n      <td>0</td>\n      <td>None</td>\n      <td>Biskupa Bernarda Bogedaina</td>\n      <td>unclassified</td>\n      <td>None</td>\n      <td>14.714</td>\n      <td>164895026</td>\n      <td>95584841</td>\n      <td>None</td>\n      <td>None</td>\n      <td>None</td>\n      <td>None</td>\n      <td>None</td>\n      <td>None</td>\n      <td>LINESTRING (17.06450 51.08460, 17.06437 51.08470)</td>\n    </tr>\n    <tr>\n      <th>...</th>\n      <td>...</td>\n      <td>...</td>\n      <td>...</td>\n      <td>...</td>\n      <td>...</td>\n      <td>...</td>\n      <td>...</td>\n      <td>...</td>\n      <td>...</td>\n      <td>...</td>\n      <td>...</td>\n      <td>...</td>\n      <td>...</td>\n      <td>...</td>\n      <td>...</td>\n      <td>...</td>\n      <td>...</td>\n      <td>...</td>\n      <td>...</td>\n    </tr>\n    <tr>\n      <th>9678</th>\n      <td>8001157238</td>\n      <td>8221846043</td>\n      <td>0</td>\n      <td>[884068441, 769929444, 727134918, 508232269, 7...</td>\n      <td>1</td>\n      <td>3</td>\n      <td>Nabycińska</td>\n      <td>tertiary</td>\n      <td>None</td>\n      <td>186.065</td>\n      <td>8001157238</td>\n      <td>8221846043</td>\n      <td>None</td>\n      <td>None</td>\n      <td>None</td>\n      <td>None</td>\n      <td>None</td>\n      <td>None</td>\n      <td>LINESTRING (17.01744 51.11012, 17.01741 51.110...</td>\n    </tr>\n    <tr>\n      <th>9679</th>\n      <td>8001157238</td>\n      <td>8001157243</td>\n      <td>0</td>\n      <td>858291159</td>\n      <td>1</td>\n      <td>1</td>\n      <td>None</td>\n      <td>tertiary_link</td>\n      <td>None</td>\n      <td>32.034</td>\n      <td>8001157243</td>\n      <td>8001157238</td>\n      <td>None</td>\n      <td>None</td>\n      <td>None</td>\n      <td>None</td>\n      <td>None</td>\n      <td>None</td>\n      <td>LINESTRING (17.01783 51.11021, 17.01775 51.110...</td>\n    </tr>\n    <tr>\n      <th>9680</th>\n      <td>8150476313</td>\n      <td>8150476314</td>\n      <td>0</td>\n      <td>875668659</td>\n      <td>0</td>\n      <td>None</td>\n      <td>None</td>\n      <td>living_street</td>\n      <td>20</td>\n      <td>103.432</td>\n      <td>8150476314</td>\n      <td>8150476313</td>\n      <td>None</td>\n      <td>None</td>\n      <td>None</td>\n      <td>None</td>\n      <td>None</td>\n      <td>None</td>\n      <td>LINESTRING (17.04155 51.05842, 17.04163 51.058...</td>\n    </tr>\n    <tr>\n      <th>9681</th>\n      <td>8570024805</td>\n      <td>8570024807</td>\n      <td>0</td>\n      <td>[923192968, 923192971]</td>\n      <td>0</td>\n      <td>None</td>\n      <td>None</td>\n      <td>living_street</td>\n      <td>20</td>\n      <td>162.860</td>\n      <td>8570024807</td>\n      <td>8570024805</td>\n      <td>None</td>\n      <td>None</td>\n      <td>None</td>\n      <td>None</td>\n      <td>None</td>\n      <td>None</td>\n      <td>LINESTRING (17.13918 51.16063, 17.13949 51.160...</td>\n    </tr>\n    <tr>\n      <th>9682</th>\n      <td>8586747002</td>\n      <td>8586747003</td>\n      <td>0</td>\n      <td>925229680</td>\n      <td>0</td>\n      <td>None</td>\n      <td>Miłostowska</td>\n      <td>living_street</td>\n      <td>None</td>\n      <td>17.561</td>\n      <td>8586747003</td>\n      <td>8586747002</td>\n      <td>None</td>\n      <td>None</td>\n      <td>None</td>\n      <td>None</td>\n      <td>None</td>\n      <td>None</td>\n      <td>LINESTRING (17.12107 51.14465, 17.12089 51.144...</td>\n    </tr>\n  </tbody>\n</table>\n<p>9683 rows × 19 columns</p>\n</div>",
      "text/plain": "               u           v  key  \\\n0       95584835   297779709    0   \n1       95584835   241778108    0   \n2       95584835    95584852    0   \n3       95584835  3019848617    0   \n4       95584841   164895026    0   \n...          ...         ...  ...   \n9678  8001157238  8221846043    0   \n9679  8001157238  8001157243    0   \n9680  8150476313  8150476314    0   \n9681  8570024805  8570024807    0   \n9682  8586747002  8586747003    0   \n\n                                                  osmid  oneway  \\\n0                                 [24707867, 656793686]       1   \n1                                 [656794402, 28458110]       1   \n2                     [301726798, 189513998, 301726791]       1   \n3                                              28458112       1   \n4                                              27665976       0   \n...                                                 ...     ...   \n9678  [884068441, 769929444, 727134918, 508232269, 7...       1   \n9679                                          858291159       1   \n9680                                          875668659       0   \n9681                             [923192968, 923192971]       0   \n9682                                          925229680       0   \n\n                lanes                        name        highway maxspeed  \\\n0                   2                     Bardzka       tertiary       50   \n1                   2        Aleja Armii Krajowej        primary       50   \n2     ['2', '3', '4']        Aleja Armii Krajowej        primary       50   \n3                   3                     Bardzka      secondary       50   \n4                None  Biskupa Bernarda Bogedaina   unclassified     None   \n...               ...                         ...            ...      ...   \n9678                3                  Nabycińska       tertiary     None   \n9679                1                        None  tertiary_link     None   \n9680             None                        None  living_street       20   \n9681             None                        None  living_street       20   \n9682             None                 Miłostowska  living_street     None   \n\n       length        from          to   ref bridge access junction width  \\\n0     178.450    95584835   297779709  None   None   None     None  None   \n1      28.882    95584835   241778108    94   None   None     None  None   \n2     284.438    95584852    95584835    94   None   None     None  None   \n3      25.202  3019848617    95584835   395   None   None     None  None   \n4      14.714   164895026    95584841  None   None   None     None  None   \n...       ...         ...         ...   ...    ...    ...      ...   ...   \n9678  186.065  8001157238  8221846043  None   None   None     None  None   \n9679   32.034  8001157243  8001157238  None   None   None     None  None   \n9680  103.432  8150476314  8150476313  None   None   None     None  None   \n9681  162.860  8570024807  8570024805  None   None   None     None  None   \n9682   17.561  8586747003  8586747002  None   None   None     None  None   \n\n     tunnel                                           geometry  \n0      None  LINESTRING (17.04951 51.08311, 17.04947 51.083...  \n1      None  LINESTRING (17.04951 51.08311, 17.04933 51.083...  \n2      None  LINESTRING (17.05357 51.08301, 17.05335 51.082...  \n3      None  LINESTRING (17.04960 51.08289, 17.04957 51.082...  \n4      None  LINESTRING (17.06450 51.08460, 17.06437 51.08470)  \n...     ...                                                ...  \n9678   None  LINESTRING (17.01744 51.11012, 17.01741 51.110...  \n9679   None  LINESTRING (17.01783 51.11021, 17.01775 51.110...  \n9680   None  LINESTRING (17.04155 51.05842, 17.04163 51.058...  \n9681   None  LINESTRING (17.13918 51.16063, 17.13949 51.160...  \n9682   None  LINESTRING (17.12107 51.14465, 17.12089 51.144...  \n\n[9683 rows x 19 columns]"
     },
     "execution_count": 35,
     "metadata": {},
     "output_type": "execute_result"
    }
   ],
   "source": [
    "edges"
   ]
  },
  {
   "cell_type": "code",
   "execution_count": 59,
   "metadata": {},
   "outputs": [
    {
     "data": {
      "text/html": "<div>\n<style scoped>\n    .dataframe tbody tr th:only-of-type {\n        vertical-align: middle;\n    }\n\n    .dataframe tbody tr th {\n        vertical-align: top;\n    }\n\n    .dataframe thead th {\n        text-align: right;\n    }\n</style>\n<table border=\"1\" class=\"dataframe\">\n  <thead>\n    <tr style=\"text-align: right;\">\n      <th></th>\n      <th>id</th>\n      <th>u</th>\n      <th>v</th>\n      <th>key</th>\n      <th>osmid</th>\n      <th>oneway</th>\n      <th>lanes</th>\n      <th>name</th>\n      <th>highway</th>\n      <th>maxspeed</th>\n      <th>...</th>\n      <th>from</th>\n      <th>to</th>\n      <th>ref</th>\n      <th>bridge</th>\n      <th>access</th>\n      <th>junction</th>\n      <th>width</th>\n      <th>tunnel</th>\n      <th>geometry</th>\n      <th>h3_id</th>\n    </tr>\n  </thead>\n  <tbody>\n    <tr>\n      <th>0</th>\n      <td>0</td>\n      <td>95584835</td>\n      <td>297779709</td>\n      <td>0</td>\n      <td>[24707867, 656793686]</td>\n      <td>1</td>\n      <td>2</td>\n      <td>Bardzka</td>\n      <td>tertiary</td>\n      <td>50</td>\n      <td>...</td>\n      <td>95584835</td>\n      <td>297779709</td>\n      <td>None</td>\n      <td>None</td>\n      <td>None</td>\n      <td>None</td>\n      <td>None</td>\n      <td>None</td>\n      <td>LINESTRING (17.04951 51.08311, 17.04947 51.083...</td>\n      <td>891e2040b03ffff</td>\n    </tr>\n    <tr>\n      <th>1</th>\n      <td>1</td>\n      <td>95584835</td>\n      <td>241778108</td>\n      <td>0</td>\n      <td>[656794402, 28458110]</td>\n      <td>1</td>\n      <td>2</td>\n      <td>Aleja Armii Krajowej</td>\n      <td>primary</td>\n      <td>50</td>\n      <td>...</td>\n      <td>95584835</td>\n      <td>241778108</td>\n      <td>94</td>\n      <td>None</td>\n      <td>None</td>\n      <td>None</td>\n      <td>None</td>\n      <td>None</td>\n      <td>LINESTRING (17.04951 51.08311, 17.04933 51.083...</td>\n      <td>891e2040b03ffff</td>\n    </tr>\n    <tr>\n      <th>2</th>\n      <td>2</td>\n      <td>95584835</td>\n      <td>95584852</td>\n      <td>0</td>\n      <td>[301726798, 189513998, 301726791]</td>\n      <td>1</td>\n      <td>['2', '3', '4']</td>\n      <td>Aleja Armii Krajowej</td>\n      <td>primary</td>\n      <td>50</td>\n      <td>...</td>\n      <td>95584852</td>\n      <td>95584835</td>\n      <td>94</td>\n      <td>None</td>\n      <td>None</td>\n      <td>None</td>\n      <td>None</td>\n      <td>None</td>\n      <td>LINESTRING (17.05357 51.08301, 17.05335 51.082...</td>\n      <td>891e2040b07ffff</td>\n    </tr>\n    <tr>\n      <th>3</th>\n      <td>2</td>\n      <td>95584835</td>\n      <td>95584852</td>\n      <td>0</td>\n      <td>[301726798, 189513998, 301726791]</td>\n      <td>1</td>\n      <td>['2', '3', '4']</td>\n      <td>Aleja Armii Krajowej</td>\n      <td>primary</td>\n      <td>50</td>\n      <td>...</td>\n      <td>95584852</td>\n      <td>95584835</td>\n      <td>94</td>\n      <td>None</td>\n      <td>None</td>\n      <td>None</td>\n      <td>None</td>\n      <td>None</td>\n      <td>LINESTRING (17.05357 51.08301, 17.05335 51.082...</td>\n      <td>891e2040b03ffff</td>\n    </tr>\n    <tr>\n      <th>4</th>\n      <td>3</td>\n      <td>95584835</td>\n      <td>3019848617</td>\n      <td>0</td>\n      <td>28458112</td>\n      <td>1</td>\n      <td>3</td>\n      <td>Bardzka</td>\n      <td>secondary</td>\n      <td>50</td>\n      <td>...</td>\n      <td>3019848617</td>\n      <td>95584835</td>\n      <td>395</td>\n      <td>None</td>\n      <td>None</td>\n      <td>None</td>\n      <td>None</td>\n      <td>None</td>\n      <td>LINESTRING (17.04960 51.08289, 17.04957 51.082...</td>\n      <td>891e2040b03ffff</td>\n    </tr>\n    <tr>\n      <th>...</th>\n      <td>...</td>\n      <td>...</td>\n      <td>...</td>\n      <td>...</td>\n      <td>...</td>\n      <td>...</td>\n      <td>...</td>\n      <td>...</td>\n      <td>...</td>\n      <td>...</td>\n      <td>...</td>\n      <td>...</td>\n      <td>...</td>\n      <td>...</td>\n      <td>...</td>\n      <td>...</td>\n      <td>...</td>\n      <td>...</td>\n      <td>...</td>\n      <td>...</td>\n      <td>...</td>\n    </tr>\n    <tr>\n      <th>14667</th>\n      <td>9678</td>\n      <td>8001157238</td>\n      <td>8221846043</td>\n      <td>0</td>\n      <td>[884068441, 769929444, 727134918, 508232269, 7...</td>\n      <td>1</td>\n      <td>3</td>\n      <td>Nabycińska</td>\n      <td>tertiary</td>\n      <td>None</td>\n      <td>...</td>\n      <td>8001157238</td>\n      <td>8221846043</td>\n      <td>None</td>\n      <td>None</td>\n      <td>None</td>\n      <td>None</td>\n      <td>None</td>\n      <td>None</td>\n      <td>LINESTRING (17.01744 51.11012, 17.01741 51.110...</td>\n      <td>891e2040c67ffff</td>\n    </tr>\n    <tr>\n      <th>14668</th>\n      <td>9679</td>\n      <td>8001157238</td>\n      <td>8001157243</td>\n      <td>0</td>\n      <td>858291159</td>\n      <td>1</td>\n      <td>1</td>\n      <td>None</td>\n      <td>tertiary_link</td>\n      <td>None</td>\n      <td>...</td>\n      <td>8001157243</td>\n      <td>8001157238</td>\n      <td>None</td>\n      <td>None</td>\n      <td>None</td>\n      <td>None</td>\n      <td>None</td>\n      <td>None</td>\n      <td>LINESTRING (17.01783 51.11021, 17.01775 51.110...</td>\n      <td>891e2040c67ffff</td>\n    </tr>\n    <tr>\n      <th>14669</th>\n      <td>9680</td>\n      <td>8150476313</td>\n      <td>8150476314</td>\n      <td>0</td>\n      <td>875668659</td>\n      <td>0</td>\n      <td>None</td>\n      <td>None</td>\n      <td>living_street</td>\n      <td>20</td>\n      <td>...</td>\n      <td>8150476314</td>\n      <td>8150476313</td>\n      <td>None</td>\n      <td>None</td>\n      <td>None</td>\n      <td>None</td>\n      <td>None</td>\n      <td>None</td>\n      <td>LINESTRING (17.04155 51.05842, 17.04163 51.058...</td>\n      <td>891e204e093ffff</td>\n    </tr>\n    <tr>\n      <th>14670</th>\n      <td>9681</td>\n      <td>8570024805</td>\n      <td>8570024807</td>\n      <td>0</td>\n      <td>[923192968, 923192971]</td>\n      <td>0</td>\n      <td>None</td>\n      <td>None</td>\n      <td>living_street</td>\n      <td>20</td>\n      <td>...</td>\n      <td>8570024807</td>\n      <td>8570024805</td>\n      <td>None</td>\n      <td>None</td>\n      <td>None</td>\n      <td>None</td>\n      <td>None</td>\n      <td>None</td>\n      <td>LINESTRING (17.13918 51.16063, 17.13949 51.160...</td>\n      <td>891e20462c3ffff</td>\n    </tr>\n    <tr>\n      <th>14671</th>\n      <td>9682</td>\n      <td>8586747002</td>\n      <td>8586747003</td>\n      <td>0</td>\n      <td>925229680</td>\n      <td>0</td>\n      <td>None</td>\n      <td>Miłostowska</td>\n      <td>living_street</td>\n      <td>None</td>\n      <td>...</td>\n      <td>8586747003</td>\n      <td>8586747002</td>\n      <td>None</td>\n      <td>None</td>\n      <td>None</td>\n      <td>None</td>\n      <td>None</td>\n      <td>None</td>\n      <td>LINESTRING (17.12107 51.14465, 17.12089 51.144...</td>\n      <td>891e20471d3ffff</td>\n    </tr>\n  </tbody>\n</table>\n<p>14672 rows × 21 columns</p>\n</div>",
      "text/plain": "         id           u           v  key  \\\n0         0    95584835   297779709    0   \n1         1    95584835   241778108    0   \n2         2    95584835    95584852    0   \n3         2    95584835    95584852    0   \n4         3    95584835  3019848617    0   \n...     ...         ...         ...  ...   \n14667  9678  8001157238  8221846043    0   \n14668  9679  8001157238  8001157243    0   \n14669  9680  8150476313  8150476314    0   \n14670  9681  8570024805  8570024807    0   \n14671  9682  8586747002  8586747003    0   \n\n                                                   osmid  oneway  \\\n0                                  [24707867, 656793686]       1   \n1                                  [656794402, 28458110]       1   \n2                      [301726798, 189513998, 301726791]       1   \n3                      [301726798, 189513998, 301726791]       1   \n4                                               28458112       1   \n...                                                  ...     ...   \n14667  [884068441, 769929444, 727134918, 508232269, 7...       1   \n14668                                          858291159       1   \n14669                                          875668659       0   \n14670                             [923192968, 923192971]       0   \n14671                                          925229680       0   \n\n                 lanes                  name        highway maxspeed  ...  \\\n0                    2               Bardzka       tertiary       50  ...   \n1                    2  Aleja Armii Krajowej        primary       50  ...   \n2      ['2', '3', '4']  Aleja Armii Krajowej        primary       50  ...   \n3      ['2', '3', '4']  Aleja Armii Krajowej        primary       50  ...   \n4                    3               Bardzka      secondary       50  ...   \n...                ...                   ...            ...      ...  ...   \n14667                3            Nabycińska       tertiary     None  ...   \n14668                1                  None  tertiary_link     None  ...   \n14669             None                  None  living_street       20  ...   \n14670             None                  None  living_street       20  ...   \n14671             None           Miłostowska  living_street     None  ...   \n\n             from          to   ref bridge access junction width tunnel  \\\n0        95584835   297779709  None   None   None     None  None   None   \n1        95584835   241778108    94   None   None     None  None   None   \n2        95584852    95584835    94   None   None     None  None   None   \n3        95584852    95584835    94   None   None     None  None   None   \n4      3019848617    95584835   395   None   None     None  None   None   \n...           ...         ...   ...    ...    ...      ...   ...    ...   \n14667  8001157238  8221846043  None   None   None     None  None   None   \n14668  8001157243  8001157238  None   None   None     None  None   None   \n14669  8150476314  8150476313  None   None   None     None  None   None   \n14670  8570024807  8570024805  None   None   None     None  None   None   \n14671  8586747003  8586747002  None   None   None     None  None   None   \n\n                                                geometry            h3_id  \n0      LINESTRING (17.04951 51.08311, 17.04947 51.083...  891e2040b03ffff  \n1      LINESTRING (17.04951 51.08311, 17.04933 51.083...  891e2040b03ffff  \n2      LINESTRING (17.05357 51.08301, 17.05335 51.082...  891e2040b07ffff  \n3      LINESTRING (17.05357 51.08301, 17.05335 51.082...  891e2040b03ffff  \n4      LINESTRING (17.04960 51.08289, 17.04957 51.082...  891e2040b03ffff  \n...                                                  ...              ...  \n14667  LINESTRING (17.01744 51.11012, 17.01741 51.110...  891e2040c67ffff  \n14668  LINESTRING (17.01783 51.11021, 17.01775 51.110...  891e2040c67ffff  \n14669  LINESTRING (17.04155 51.05842, 17.04163 51.058...  891e204e093ffff  \n14670  LINESTRING (17.13918 51.16063, 17.13949 51.160...  891e20462c3ffff  \n14671  LINESTRING (17.12107 51.14465, 17.12089 51.144...  891e20471d3ffff  \n\n[14672 rows x 21 columns]"
     },
     "execution_count": 59,
     "metadata": {},
     "output_type": "execute_result"
    }
   ],
   "source": [
    "\n",
    "gpd.sjoin(edges, hexagons[[\"h3_id\", \"geometry\"]], op=\"intersects\", how=\"inner\") \\\n",
    "    .drop(columns=\"index_right\") \\\n",
    "    .reset_index() \\\n",
    "    .sort_values(by=\"index\", ignore_index=True) \\\n",
    "    .rename(columns={\"index\": \"id\"})\n",
    "# edges_min[\"h3_id\"] = get_hexagons_for_edges(edges_min, hexagons)\n",
    "# edges_min = edges_min.explode(\"h3_id\").reset_index()  # type: ignore\n",
    "# edges_min.rename(columns={\"index\": \"id\"}, inplace=True)\n",
    "# edges_min\n"
   ]
  }
 ],
 "metadata": {
  "kernelspec": {
   "display_name": "Python 3.8.8  ('venv': venv)",
   "name": "pythonjvsc74a57bd0d3c344be017dd5dba7ed0744b138aa90728f55fbc920f4ab22618c6bb6b41028"
  },
  "language_info": {
   "codemirror_mode": {
    "name": "ipython",
    "version": 3
   },
   "file_extension": ".py",
   "mimetype": "text/x-python",
   "name": "python",
   "nbconvert_exporter": "python",
   "pygments_lexer": "ipython3",
   "version": "3.8.8"
  },
  "metadata": {
   "interpreter": {
    "hash": "d3c344be017dd5dba7ed0744b138aa90728f55fbc920f4ab22618c6bb6b41028"
   }
  },
  "orig_nbformat": 2
 },
 "nbformat": 4,
 "nbformat_minor": 2
}