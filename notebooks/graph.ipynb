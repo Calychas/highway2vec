{
 "cells": [
  {
   "cell_type": "code",
   "execution_count": null,
   "metadata": {},
   "outputs": [],
   "source": [
    "%load_ext autoreload\n",
    "%autoreload 2"
   ]
  },
  {
   "cell_type": "code",
   "execution_count": null,
   "metadata": {},
   "outputs": [],
   "source": [
    "%matplotlib widget"
   ]
  },
  {
   "cell_type": "code",
   "execution_count": null,
   "metadata": {},
   "outputs": [],
   "source": [
    "import h3\n",
    "import pandas as pd\n",
    "import geopandas as gpd\n",
    "import numpy as np\n",
    "import folium\n",
    "from src.settings import *\n",
    "from shapely.geometry import Polygon\n",
    "from tqdm.auto import tqdm\n",
    "import matplotlib.pyplot as plt\n",
    "from src.tools.osmnx_utils import get_place_dir_name\n",
    "from src.tools.h3_utils import get_resolution_buffered_suffix\n",
    "from pathlib import Path\n",
    "import plotly.express as px\n",
    "from src.tools.clustering import cluster_hdbscan\n",
    "from src.models.tfidf import tfidf\n",
    "from src.tools.dim_reduction import reduce_umap\n",
    "import matplotlib.pyplot as plt\n",
    "import contextily as ctx\n",
    "from keplergl import KeplerGl\n",
    "from src.tools.aggregation import aggregate_hex\n",
    "import torch\n",
    "from torch import nn\n",
    "import torch.nn.functional as F\n",
    "import pytorch_lightning as pl\n",
    "from pytorch_lightning.loggers import WandbLogger\n",
    "import wandb\n",
    "from src.models.autoencoder import LitAutoEncoder\n",
    "import networkx as nx\n",
    "import osmnx as ox\n",
    "from torch_geometric.data import Dataset\n",
    "from torch_geometric.utils.convert import from_networkx\n",
    "from torch_geometric.loader import DataLoader\n",
    "from torch_geometric.transforms import LineGraph\n",
    "\n",
    "tqdm.pandas()"
   ]
  },
  {
   "cell_type": "code",
   "execution_count": null,
   "metadata": {},
   "outputs": [],
   "source": [
    "place_name = \"Wrocław,Poland\"\n",
    "place_dir_name = get_place_dir_name(place_name)\n",
    "resolution = 9\n",
    "buffered = False\n",
    "suffix = get_resolution_buffered_suffix(resolution, buffered)\n",
    "\n",
    "\n",
    "gpkg_path = GENERATED_DATA_DIR.joinpath(place_dir_name, \"graph_drive.gpkg\")\n",
    "hexagons = gpd.read_file(gpkg_path, layer=f\"hex_{suffix}\").set_index(\"h3_id\")\n",
    "nodes = gpd.read_file(gpkg_path, layer=\"nodes\")\n",
    "edges = gpd.read_file(gpkg_path, layer=f\"edges_{suffix}\")"
   ]
  },
  {
   "cell_type": "code",
   "execution_count": null,
   "metadata": {},
   "outputs": [],
   "source": [
    "nodes_preprocessed = nodes.set_index(\"osmid\").drop(columns=[\"highway\", \"ref\"])\n",
    "# nodes_preprocessed[\"highway\"] = nodes_preprocessed[\"highway\"].replace(\"\", \"None\")\n",
    "# nodes_preprocessed.drop(columns=\"ref\", inplace=True)\n",
    "\n",
    "# copies of edges exist, because they go through more than one hex -> only one edge can exist with given (u, v, key) for correct graph processing\n",
    "edges_preprocessed = edges.drop(columns=[\"h3_id\", \"id\", \"geometry\"]).groupby(by=[\"u\", \"v\"]).max().reset_index()\n",
    "edges_preprocessed[\"key\"] = 0\n",
    "edges_preprocessed = edges_preprocessed.set_index([\"u\", \"v\", \"key\"])"
   ]
  },
  {
   "cell_type": "code",
   "execution_count": null,
   "metadata": {},
   "outputs": [],
   "source": [
    "G_md = ox.graph_from_gdfs(nodes_preprocessed, edges_preprocessed)"
   ]
  },
  {
   "cell_type": "code",
   "execution_count": null,
   "metadata": {},
   "outputs": [],
   "source": [
    "ox.plot.plot_graph(G_md)"
   ]
  },
  {
   "cell_type": "code",
   "execution_count": null,
   "metadata": {},
   "outputs": [],
   "source": [
    "group_node_attrs = [\"street_count\"]\n",
    "group_edge_attrs = list(edges_preprocessed.columns)\n",
    "G_d = nx.DiGraph(G_md)\n",
    "data_node_centric = from_networkx(G_d, group_node_attrs=group_node_attrs, group_edge_attrs=group_edge_attrs)\n",
    "\n",
    "data_node_centric.pos = torch.tensor(nodes[[\"x\", \"y\"]].values)\n",
    "attributes_to_delete = group_node_attrs + group_edge_attrs + [\"y\"]\n",
    "for attr in attributes_to_delete:\n",
    "    data_node_centric.__delattr__(attr)\n",
    "data_node_centric"
   ]
  },
  {
   "cell_type": "code",
   "execution_count": null,
   "metadata": {},
   "outputs": [],
   "source": [
    "data_edge_centric = LineGraph()(data_node_centric.__copy__())\n",
    "del data_edge_centric.pos\n",
    "del data_edge_centric.num_nodes\n",
    "data_edge_centric.x = data_edge_centric.x.float()\n",
    "data_edge_centric"
   ]
  },
  {
   "cell_type": "code",
   "execution_count": null,
   "metadata": {},
   "outputs": [],
   "source": [
    "batch_size = 1\n",
    "shuffle = False\n",
    "num_workers = 5\n",
    "X_dl = DataLoader([data_edge_centric], batch_size=batch_size, shuffle=shuffle, num_workers=1)\n",
    "for batch in X_dl:\n",
    "    print(batch)"
   ]
  },
  {
   "cell_type": "code",
   "execution_count": null,
   "metadata": {},
   "outputs": [],
   "source": [
    "from src.models.autoencoder import LitGAE, GCNEncoder\n",
    "num_features = data_edge_centric.num_features\n",
    "out_channels = 64\n",
    "epochs = 500\n",
    "\n",
    "wandb_logger = WandbLogger()\n",
    "run = wandb.init(project=\"osm-graph-autoencoder\", reinit=True)\n",
    "\n",
    "model = LitGAE(GCNEncoder(num_features, out_channels))\n",
    "trainer = pl.Trainer(gpus=1, max_epochs=epochs, logger=wandb_logger, default_root_dir=\"./checkpoints\")\n",
    "trainer.fit(model, X_dl)\n",
    "\n",
    "# y = model(X)\n",
    "# y_df = pd.DataFrame(y.detach().numpy()).add_prefix(\"x_\")\n",
    "# y_df.index = hex_agg.index\n",
    "\n",
    "run.finish()"
   ]
  },
  {
   "cell_type": "code",
   "execution_count": null,
   "metadata": {},
   "outputs": [],
   "source": [
    "y = model(data_edge_centric.x, data_edge_centric.edge_index)\n",
    "y"
   ]
  },
  {
   "cell_type": "code",
   "execution_count": null,
   "metadata": {},
   "outputs": [],
   "source": [
    "y.shape"
   ]
  }
 ],
 "metadata": {
  "interpreter": {
   "hash": "d3c344be017dd5dba7ed0744b138aa90728f55fbc920f4ab22618c6bb6b41028"
  },
  "kernelspec": {
   "display_name": "Python 3.8.9 64-bit ('venv': venv)",
   "name": "python3"
  },
  "language_info": {
   "codemirror_mode": {
    "name": "ipython",
    "version": 3
   },
   "file_extension": ".py",
   "mimetype": "text/x-python",
   "name": "python",
   "nbconvert_exporter": "python",
   "pygments_lexer": "ipython3",
   "version": "3.9.7"
  },
  "orig_nbformat": 2
 },
 "nbformat": 4,
 "nbformat_minor": 2
}
