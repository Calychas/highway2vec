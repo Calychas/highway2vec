{
 "cells": [
  {
   "cell_type": "code",
   "execution_count": 1,
   "metadata": {},
   "outputs": [
    {
     "name": "stdout",
     "output_type": "stream",
     "text": [
      "The autoreload extension is already loaded. To reload it, use:\n",
      "  %reload_ext autoreload\n"
     ]
    }
   ],
   "source": [
    "%load_ext autoreload\n",
    "%autoreload 2"
   ]
  },
  {
   "cell_type": "code",
   "execution_count": 2,
   "metadata": {},
   "outputs": [],
   "source": [
    "import pandas as pd\n",
    "import geopandas as gpd\n",
    "from keplergl import KeplerGl\n",
    "from tqdm.auto import tqdm\n",
    "from src.settings import *\n",
    "from src.tools.osmnx_utils import get_place_dir_name\n",
    "from src.tools.vis_utils import visualize_kepler, save_config\n",
    "tqdm.pandas()"
   ]
  },
  {
   "cell_type": "code",
   "execution_count": 3,
   "metadata": {},
   "outputs": [
    {
     "data": {
      "text/html": [
       "<div>\n",
       "<style scoped>\n",
       "    .dataframe tbody tr th:only-of-type {\n",
       "        vertical-align: middle;\n",
       "    }\n",
       "\n",
       "    .dataframe tbody tr th {\n",
       "        vertical-align: top;\n",
       "    }\n",
       "\n",
       "    .dataframe thead th {\n",
       "        text-align: right;\n",
       "    }\n",
       "</style>\n",
       "<table border=\"1\" class=\"dataframe\">\n",
       "  <thead>\n",
       "    <tr style=\"text-align: right;\">\n",
       "      <th></th>\n",
       "      <th>city</th>\n",
       "      <th>country</th>\n",
       "      <th>kacper</th>\n",
       "      <th>szymon</th>\n",
       "      <th>piotr</th>\n",
       "      <th>kamil</th>\n",
       "      <th>regions</th>\n",
       "    </tr>\n",
       "  </thead>\n",
       "  <tbody>\n",
       "    <tr>\n",
       "      <th>63</th>\n",
       "      <td>Białystok</td>\n",
       "      <td>Poland</td>\n",
       "      <td>True</td>\n",
       "      <td>False</td>\n",
       "      <td>False</td>\n",
       "      <td>False</td>\n",
       "      <td>NaN</td>\n",
       "    </tr>\n",
       "    <tr>\n",
       "      <th>64</th>\n",
       "      <td>Bydgoszcz</td>\n",
       "      <td>Poland</td>\n",
       "      <td>True</td>\n",
       "      <td>False</td>\n",
       "      <td>True</td>\n",
       "      <td>False</td>\n",
       "      <td>NaN</td>\n",
       "    </tr>\n",
       "    <tr>\n",
       "      <th>65</th>\n",
       "      <td>Częstochowa</td>\n",
       "      <td>Poland</td>\n",
       "      <td>True</td>\n",
       "      <td>False</td>\n",
       "      <td>False</td>\n",
       "      <td>False</td>\n",
       "      <td>NaN</td>\n",
       "    </tr>\n",
       "    <tr>\n",
       "      <th>69</th>\n",
       "      <td>Kraków</td>\n",
       "      <td>Poland</td>\n",
       "      <td>True</td>\n",
       "      <td>True</td>\n",
       "      <td>True</td>\n",
       "      <td>False</td>\n",
       "      <td>NaN</td>\n",
       "    </tr>\n",
       "    <tr>\n",
       "      <th>70</th>\n",
       "      <td>Lublin</td>\n",
       "      <td>Poland</td>\n",
       "      <td>True</td>\n",
       "      <td>False</td>\n",
       "      <td>True</td>\n",
       "      <td>False</td>\n",
       "      <td>NaN</td>\n",
       "    </tr>\n",
       "    <tr>\n",
       "      <th>71</th>\n",
       "      <td>Łódź</td>\n",
       "      <td>Poland</td>\n",
       "      <td>True</td>\n",
       "      <td>True</td>\n",
       "      <td>False</td>\n",
       "      <td>False</td>\n",
       "      <td>NaN</td>\n",
       "    </tr>\n",
       "    <tr>\n",
       "      <th>72</th>\n",
       "      <td>Poznań</td>\n",
       "      <td>Poland</td>\n",
       "      <td>True</td>\n",
       "      <td>True</td>\n",
       "      <td>True</td>\n",
       "      <td>True</td>\n",
       "      <td>NaN</td>\n",
       "    </tr>\n",
       "    <tr>\n",
       "      <th>75</th>\n",
       "      <td>Szczecin</td>\n",
       "      <td>Poland</td>\n",
       "      <td>True</td>\n",
       "      <td>True</td>\n",
       "      <td>True</td>\n",
       "      <td>False</td>\n",
       "      <td>NaN</td>\n",
       "    </tr>\n",
       "    <tr>\n",
       "      <th>77</th>\n",
       "      <td>Trójmiasto</td>\n",
       "      <td>Poland</td>\n",
       "      <td>True</td>\n",
       "      <td>False</td>\n",
       "      <td>True</td>\n",
       "      <td>False</td>\n",
       "      <td>['Gdańsk','Gdynia','Sopot']</td>\n",
       "    </tr>\n",
       "    <tr>\n",
       "      <th>78</th>\n",
       "      <td>Warszawa</td>\n",
       "      <td>Poland</td>\n",
       "      <td>True</td>\n",
       "      <td>True</td>\n",
       "      <td>True</td>\n",
       "      <td>True</td>\n",
       "      <td>NaN</td>\n",
       "    </tr>\n",
       "    <tr>\n",
       "      <th>79</th>\n",
       "      <td>Wrocław</td>\n",
       "      <td>Poland</td>\n",
       "      <td>True</td>\n",
       "      <td>True</td>\n",
       "      <td>True</td>\n",
       "      <td>True</td>\n",
       "      <td>NaN</td>\n",
       "    </tr>\n",
       "    <tr>\n",
       "      <th>80</th>\n",
       "      <td>Zielona Góra</td>\n",
       "      <td>Poland</td>\n",
       "      <td>True</td>\n",
       "      <td>False</td>\n",
       "      <td>False</td>\n",
       "      <td>False</td>\n",
       "      <td>NaN</td>\n",
       "    </tr>\n",
       "  </tbody>\n",
       "</table>\n",
       "</div>"
      ],
      "text/plain": [
       "            city country  kacper  szymon  piotr  kamil  \\\n",
       "63     Białystok  Poland    True   False  False  False   \n",
       "64     Bydgoszcz  Poland    True   False   True  False   \n",
       "65   Częstochowa  Poland    True   False  False  False   \n",
       "69        Kraków  Poland    True    True   True  False   \n",
       "70        Lublin  Poland    True   False   True  False   \n",
       "71          Łódź  Poland    True    True  False  False   \n",
       "72        Poznań  Poland    True    True   True   True   \n",
       "75      Szczecin  Poland    True    True   True  False   \n",
       "77    Trójmiasto  Poland    True   False   True  False   \n",
       "78      Warszawa  Poland    True    True   True   True   \n",
       "79       Wrocław  Poland    True    True   True   True   \n",
       "80  Zielona Góra  Poland    True   False  False  False   \n",
       "\n",
       "                        regions  \n",
       "63                          NaN  \n",
       "64                          NaN  \n",
       "65                          NaN  \n",
       "69                          NaN  \n",
       "70                          NaN  \n",
       "71                          NaN  \n",
       "72                          NaN  \n",
       "75                          NaN  \n",
       "77  ['Gdańsk','Gdynia','Sopot']  \n",
       "78                          NaN  \n",
       "79                          NaN  \n",
       "80                          NaN  "
      ]
     },
     "execution_count": 3,
     "metadata": {},
     "output_type": "execute_result"
    }
   ],
   "source": [
    "cities = pd.read_csv(RAW_DATA_DIR / \"cities.csv\")\n",
    "cities = cities[(cities.country == \"Poland\") & (cities.kacper)]\n",
    "cities"
   ]
  },
  {
   "cell_type": "code",
   "execution_count": 4,
   "metadata": {},
   "outputs": [
    {
     "name": "stderr",
     "output_type": "stream",
     "text": [
      "Zielona Góra,Poland: 100%|██████████| 12/12 [00:00<00:00, 25.43it/s]\n"
     ]
    }
   ],
   "source": [
    "network_type = \"drive\"\n",
    "\n",
    "pbar = tqdm(cities.itertuples(), total=cities.shape[0])\n",
    "places = []\n",
    "for row in pbar:\n",
    "    place_name = f\"{row.city},{row.country}\"\n",
    "    place_dir_name = get_place_dir_name(place_name)\n",
    "    pbar.set_description(place_name)\n",
    "\n",
    "    try:\n",
    "        place_df = gpd.read_file(GENERATED_DATA_DIR / place_dir_name / f\"graph_{network_type}.gpkg\", layer=\"place\")\n",
    "        place_df[\"city\"] = row.city\n",
    "        place_df[\"country\"] = row.country\n",
    "        places.append(place_df)\n",
    "    except:\n",
    "        print(\"\\nFailed\", place_name)\n",
    "    \n",
    "\n",
    "df_places = pd.concat(places, ignore_index=True)"
   ]
  },
  {
   "cell_type": "code",
   "execution_count": 5,
   "metadata": {},
   "outputs": [
    {
     "name": "stdout",
     "output_type": "stream",
     "text": [
      "User Guide: https://docs.kepler.gl/docs/keplergl-jupyter\n"
     ]
    },
    {
     "data": {
      "application/vnd.jupyter.widget-view+json": {
       "model_id": "f5c2b933acf841458c40a23950cc74af",
       "version_major": 2,
       "version_minor": 0
      },
      "text/plain": [
       "KeplerGl(config={'version': 'v1', 'config': {'visState': {'filters': [], 'layers': [{'id': 'iuc031q', 'type': …"
      ]
     },
     "metadata": {},
     "output_type": "display_data"
    }
   ],
   "source": [
    "config_name = \"cities\"\n",
    "m = visualize_kepler(df_places, config_name=config_name)\n",
    "m"
   ]
  },
  {
   "cell_type": "code",
   "execution_count": 6,
   "metadata": {},
   "outputs": [
    {
     "data": {
      "text/plain": [
       "WindowsPath('D:/Projekty/Programowanie/Studia/Semestr10/gis/osm-road-infrastructure/assets/keplergl/config/cities.json')"
      ]
     },
     "execution_count": 6,
     "metadata": {},
     "output_type": "execute_result"
    }
   ],
   "source": [
    "save_config(m, config_name=config_name)"
   ]
  }
 ],
 "metadata": {
  "interpreter": {
   "hash": "d3c344be017dd5dba7ed0744b138aa90728f55fbc920f4ab22618c6bb6b41028"
  },
  "kernelspec": {
   "display_name": "Python 3.9.7 64-bit ('venv': venv)",
   "language": "python",
   "name": "python3"
  },
  "language_info": {
   "codemirror_mode": {
    "name": "ipython",
    "version": 3
   },
   "file_extension": ".py",
   "mimetype": "text/x-python",
   "name": "python",
   "nbconvert_exporter": "python",
   "pygments_lexer": "ipython3",
   "version": "3.9.7"
  },
  "orig_nbformat": 4
 },
 "nbformat": 4,
 "nbformat_minor": 2
}
