{
 "cells": [
  {
   "cell_type": "code",
   "execution_count": null,
   "metadata": {},
   "outputs": [],
   "source": [
    "%load_ext autoreload\n",
    "%autoreload 2"
   ]
  },
  {
   "cell_type": "code",
   "execution_count": null,
   "metadata": {},
   "outputs": [],
   "source": [
    "# %matplotlib widget"
   ]
  },
  {
   "cell_type": "code",
   "execution_count": null,
   "metadata": {},
   "outputs": [],
   "source": [
    "import h3\n",
    "import pandas as pd\n",
    "import geopandas as gpd\n",
    "import numpy as np\n",
    "import folium\n",
    "from src.settings import *\n",
    "from shapely.geometry import Polygon\n",
    "from tqdm.auto import tqdm\n",
    "import matplotlib.pyplot as plt\n",
    "from src.tools.osmnx_utils import get_place_dir_name\n",
    "from src.tools.h3_utils import get_resolution_buffered_suffix\n",
    "from pathlib import Path\n",
    "import plotly.express as px\n",
    "from src.tools.clustering import cluster_hdbscan\n",
    "from src.models.tfidf import tfidf\n",
    "from src.tools.dim_reduction import reduce_umap\n",
    "import matplotlib.pyplot as plt\n",
    "import contextily as ctx\n",
    "from keplergl import KeplerGl"
   ]
  },
  {
   "cell_type": "code",
   "execution_count": null,
   "metadata": {},
   "outputs": [],
   "source": [
    "tqdm.pandas()"
   ]
  },
  {
   "cell_type": "code",
   "execution_count": null,
   "metadata": {},
   "outputs": [],
   "source": [
    "place_name = \"Wrocław,Poland\"\n",
    "place_dir_name = get_place_dir_name(place_name)\n",
    "resolution = 9\n",
    "buffered = True\n",
    "edges = gpd.read_file(GENERATED_DATA_DIR.joinpath(place_dir_name, f\"edges_drive_{get_resolution_buffered_suffix(resolution, buffered)}.geojson\"), driver=\"GeoJSON\")\n",
    "edges.tail(5)"
   ]
  },
  {
   "cell_type": "code",
   "execution_count": null,
   "metadata": {},
   "outputs": [],
   "source": [
    "hexagons = gpd.read_file(GENERATED_DATA_DIR.joinpath(place_dir_name, f\"hex_{get_resolution_buffered_suffix(resolution, buffered)}.geojson\"), driver=\"GeoJSON\").set_index(\"h3_id\")\n",
    "hexagons.head(5)"
   ]
  },
  {
   "cell_type": "code",
   "execution_count": null,
   "metadata": {},
   "outputs": [],
   "source": [
    "edges_shp = gpd.read_file(GENERATED_DATA_DIR.joinpath(place_dir_name, \"shp_drive\", f\"edges_hex_{get_resolution_buffered_suffix(resolution, buffered)}.shp\")).set_index(\"h3_id\")"
   ]
  },
  {
   "cell_type": "code",
   "execution_count": null,
   "metadata": {},
   "outputs": [],
   "source": [
    "edges.columns"
   ]
  },
  {
   "cell_type": "code",
   "execution_count": null,
   "metadata": {},
   "outputs": [],
   "source": [
    "from src.tools.aggregation import aggregate_hex\n",
    "hex_feautres = aggregate_hex(edges)"
   ]
  },
  {
   "cell_type": "code",
   "execution_count": null,
   "metadata": {},
   "outputs": [],
   "source": [
    "hex_features_tfidf = tfidf(hex_feautres)\n",
    "hex_features_tfidf"
   ]
  },
  {
   "cell_type": "markdown",
   "metadata": {},
   "source": []
  },
  {
   "cell_type": "code",
   "execution_count": null,
   "metadata": {},
   "outputs": [],
   "source": [
    "embedding = reduce_umap(hex_features_tfidf, n_components=2, n_neighbors=7, metric=\"cosine\")[0]"
   ]
  },
  {
   "cell_type": "code",
   "execution_count": null,
   "metadata": {},
   "outputs": [],
   "source": [
    "embedding[\"cluster\"] = cluster_hdbscan(embedding, min_cluster_size=30, metric=\"euclidean\")[0]\n",
    "fig = px.scatter(embedding, x=\"x_0\", y=\"x_1\", color=\"cluster\", width=800, height=700)\n",
    "fig.show()"
   ]
  },
  {
   "cell_type": "code",
   "execution_count": null,
   "metadata": {},
   "outputs": [],
   "source": [
    "hexagons_clustered = hexagons.join(embedding).dropna()\n",
    "hexagons_clustered.head(5)"
   ]
  },
  {
   "cell_type": "code",
   "execution_count": null,
   "metadata": {},
   "outputs": [],
   "source": [
    "from src.tools.vis_utils import plot_hexagons_map\n",
    "\n",
    "plot_hexagons_map(hexagons_clustered[hexagons_clustered[\"cluster\"] != -1], edges, \"cluster\")"
   ]
  },
  {
   "cell_type": "code",
   "execution_count": null,
   "metadata": {},
   "outputs": [],
   "source": [
    "hex_group_cluster = hex_features_tfidf.join(embedding).groupby(by=\"cluster\")"
   ]
  },
  {
   "cell_type": "code",
   "execution_count": null,
   "metadata": {},
   "outputs": [],
   "source": [
    "hex_agg = hex_group_cluster.mean().reset_index()\n",
    "hex_agg"
   ]
  },
  {
   "cell_type": "code",
   "execution_count": null,
   "metadata": {},
   "outputs": [],
   "source": [
    "fig = px.bar(hex_agg, x=\"cluster\", y=list(filter(lambda x: \"bridge\" in x, hex_agg.columns)), width=1300)\n",
    "fig.update_layout(\n",
    "    xaxis = dict(\n",
    "        tickmode = 'linear',\n",
    "    )\n",
    ")\n",
    "fig.show()"
   ]
  },
  {
   "cell_type": "code",
   "execution_count": null,
   "metadata": {},
   "outputs": [],
   "source": [
    "from src.tools.feature_extraction import melt_and_max\n",
    "\n",
    "for column_name in [\"oneway\", \"lanes\", \"maxspeed\", \"width\"]:\n",
    "    columns = [x for x in edges.columns if column_name in x]\n",
    "    edges = edges.join(melt_and_max(edges, column_name, columns), on=\"id\")\n",
    "edges"
   ]
  }
 ],
 "metadata": {
  "interpreter": {
   "hash": "d3c344be017dd5dba7ed0744b138aa90728f55fbc920f4ab22618c6bb6b41028"
  },
  "kernelspec": {
   "display_name": "Python 3.8.8  ('venv': venv)",
   "name": "python3"
  },
  "language_info": {
   "name": "python",
   "version": ""
  },
  "metadata": {
   "interpreter": {
    "hash": "d3c344be017dd5dba7ed0744b138aa90728f55fbc920f4ab22618c6bb6b41028"
   }
  },
  "orig_nbformat": 2
 },
 "nbformat": 4,
 "nbformat_minor": 2
}