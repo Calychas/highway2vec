{
 "cells": [
  {
   "cell_type": "code",
   "execution_count": 6,
   "metadata": {},
   "outputs": [
    {
     "name": "stdout",
     "output_type": "stream",
     "text": [
      "The autoreload extension is already loaded. To reload it, use:\n",
      "  %reload_ext autoreload\n"
     ]
    }
   ],
   "source": [
    "%load_ext autoreload\n",
    "%autoreload 2"
   ]
  },
  {
   "cell_type": "code",
   "execution_count": 7,
   "metadata": {},
   "outputs": [],
   "source": [
    "import pandas as pd\n",
    "import geopandas as gpd\n",
    "from keplergl import KeplerGl\n",
    "from tqdm.auto import tqdm\n",
    "from src.settings import *\n",
    "from src.tools.osmnx_utils import get_place_dir_name\n",
    "from src.tools.vis_utils import visualize_kepler, save_config\n",
    "from src.tools.feature_extraction import FEATURESET\n",
    "tqdm.pandas()"
   ]
  },
  {
   "cell_type": "code",
   "execution_count": 8,
   "metadata": {},
   "outputs": [
    {
     "data": {
      "text/html": [
       "<div>\n",
       "<style scoped>\n",
       "    .dataframe tbody tr th:only-of-type {\n",
       "        vertical-align: middle;\n",
       "    }\n",
       "\n",
       "    .dataframe tbody tr th {\n",
       "        vertical-align: top;\n",
       "    }\n",
       "\n",
       "    .dataframe thead th {\n",
       "        text-align: right;\n",
       "    }\n",
       "</style>\n",
       "<table border=\"1\" class=\"dataframe\">\n",
       "  <thead>\n",
       "    <tr style=\"text-align: right;\">\n",
       "      <th></th>\n",
       "      <th>city</th>\n",
       "      <th>country</th>\n",
       "      <th>kacper</th>\n",
       "      <th>szymon</th>\n",
       "      <th>piotr</th>\n",
       "      <th>kamil</th>\n",
       "      <th>regions</th>\n",
       "    </tr>\n",
       "  </thead>\n",
       "  <tbody>\n",
       "    <tr>\n",
       "      <th>0</th>\n",
       "      <td>Tirana</td>\n",
       "      <td>Albania</td>\n",
       "      <td>False</td>\n",
       "      <td>True</td>\n",
       "      <td>False</td>\n",
       "      <td>False</td>\n",
       "      <td>NaN</td>\n",
       "    </tr>\n",
       "    <tr>\n",
       "      <th>1</th>\n",
       "      <td>Yerevan</td>\n",
       "      <td>Armenia</td>\n",
       "      <td>False</td>\n",
       "      <td>True</td>\n",
       "      <td>False</td>\n",
       "      <td>False</td>\n",
       "      <td>NaN</td>\n",
       "    </tr>\n",
       "    <tr>\n",
       "      <th>2</th>\n",
       "      <td>Sydney</td>\n",
       "      <td>Australia</td>\n",
       "      <td>True</td>\n",
       "      <td>False</td>\n",
       "      <td>False</td>\n",
       "      <td>False</td>\n",
       "      <td>NaN</td>\n",
       "    </tr>\n",
       "    <tr>\n",
       "      <th>3</th>\n",
       "      <td>Vienna</td>\n",
       "      <td>Austria</td>\n",
       "      <td>False</td>\n",
       "      <td>True</td>\n",
       "      <td>True</td>\n",
       "      <td>True</td>\n",
       "      <td>NaN</td>\n",
       "    </tr>\n",
       "    <tr>\n",
       "      <th>4</th>\n",
       "      <td>Baku</td>\n",
       "      <td>Azerbaijan</td>\n",
       "      <td>False</td>\n",
       "      <td>True</td>\n",
       "      <td>False</td>\n",
       "      <td>False</td>\n",
       "      <td>NaN</td>\n",
       "    </tr>\n",
       "    <tr>\n",
       "      <th>...</th>\n",
       "      <td>...</td>\n",
       "      <td>...</td>\n",
       "      <td>...</td>\n",
       "      <td>...</td>\n",
       "      <td>...</td>\n",
       "      <td>...</td>\n",
       "      <td>...</td>\n",
       "    </tr>\n",
       "    <tr>\n",
       "      <th>111</th>\n",
       "      <td>Los Angeles</td>\n",
       "      <td>United States</td>\n",
       "      <td>True</td>\n",
       "      <td>True</td>\n",
       "      <td>False</td>\n",
       "      <td>False</td>\n",
       "      <td>NaN</td>\n",
       "    </tr>\n",
       "    <tr>\n",
       "      <th>112</th>\n",
       "      <td>New York City</td>\n",
       "      <td>United States</td>\n",
       "      <td>True</td>\n",
       "      <td>True</td>\n",
       "      <td>False</td>\n",
       "      <td>False</td>\n",
       "      <td>NaN</td>\n",
       "    </tr>\n",
       "    <tr>\n",
       "      <th>113</th>\n",
       "      <td>Philadelphia</td>\n",
       "      <td>United States</td>\n",
       "      <td>False</td>\n",
       "      <td>True</td>\n",
       "      <td>False</td>\n",
       "      <td>False</td>\n",
       "      <td>NaN</td>\n",
       "    </tr>\n",
       "    <tr>\n",
       "      <th>114</th>\n",
       "      <td>San Francisco</td>\n",
       "      <td>United States</td>\n",
       "      <td>True</td>\n",
       "      <td>True</td>\n",
       "      <td>False</td>\n",
       "      <td>False</td>\n",
       "      <td>NaN</td>\n",
       "    </tr>\n",
       "    <tr>\n",
       "      <th>115</th>\n",
       "      <td>Washington D.C.</td>\n",
       "      <td>United States</td>\n",
       "      <td>True</td>\n",
       "      <td>False</td>\n",
       "      <td>False</td>\n",
       "      <td>False</td>\n",
       "      <td>NaN</td>\n",
       "    </tr>\n",
       "  </tbody>\n",
       "</table>\n",
       "<p>116 rows × 7 columns</p>\n",
       "</div>"
      ],
      "text/plain": [
       "                city        country  kacper  szymon  piotr  kamil regions\n",
       "0             Tirana        Albania   False    True  False  False     NaN\n",
       "1            Yerevan        Armenia   False    True  False  False     NaN\n",
       "2             Sydney      Australia    True   False  False  False     NaN\n",
       "3             Vienna        Austria   False    True   True   True     NaN\n",
       "4               Baku     Azerbaijan   False    True  False  False     NaN\n",
       "..               ...            ...     ...     ...    ...    ...     ...\n",
       "111      Los Angeles  United States    True    True  False  False     NaN\n",
       "112    New York City  United States    True    True  False  False     NaN\n",
       "113     Philadelphia  United States   False    True  False  False     NaN\n",
       "114    San Francisco  United States    True    True  False  False     NaN\n",
       "115  Washington D.C.  United States    True   False  False  False     NaN\n",
       "\n",
       "[116 rows x 7 columns]"
      ]
     },
     "execution_count": 8,
     "metadata": {},
     "output_type": "execute_result"
    }
   ],
   "source": [
    "cities = pd.read_csv(RAW_DATA_DIR / \"cities.csv\")\n",
    "# cities = cities[(cities.country == \"Poland\") & (cities.kacper)]\n",
    "cities"
   ]
  },
  {
   "cell_type": "code",
   "execution_count": 9,
   "metadata": {},
   "outputs": [
    {
     "name": "stderr",
     "output_type": "stream",
     "text": [
      "Athens,Greece:  35%|███▌      | 41/116 [00:42<01:10,  1.06it/s] 2021-11-04 18:50:56,429 | fiona._env | ERROR | __init__:162 | D:\\Projekty\\Programowanie\\Studia\\Semestr10\\gis\\osm-road-infrastructure\\data\\generated\\Athens_Greece\\graph_drive.gpkg: No such file or directory\n",
      "Budapest,Hungary:  35%|███▌      | 41/116 [00:42<01:10,  1.06it/s]"
     ]
    },
    {
     "name": "stdout",
     "output_type": "stream",
     "text": [
      "\n",
      "Failed Athens,Greece D:\\Projekty\\Programowanie\\Studia\\Semestr10\\gis\\osm-road-infrastructure\\data\\generated\\Athens_Greece\\graph_drive.gpkg: No such file or directory\n"
     ]
    },
    {
     "name": "stderr",
     "output_type": "stream",
     "text": [
      "Cardiff,United Kingdom:  92%|█████████▏| 107/116 [02:00<00:34,  3.88s/it]    2021-11-04 18:52:14,728 | fiona._env | ERROR | __init__:162 | D:\\Projekty\\Programowanie\\Studia\\Semestr10\\gis\\osm-road-infrastructure\\data\\generated\\Cardiff_United-Kingdom\\graph_drive.gpkg: No such file or directory\n",
      "London,United Kingdom:  92%|█████████▏| 107/116 [02:00<00:34,  3.88s/it] "
     ]
    },
    {
     "name": "stdout",
     "output_type": "stream",
     "text": [
      "\n",
      "Failed Cardiff,United Kingdom D:\\Projekty\\Programowanie\\Studia\\Semestr10\\gis\\osm-road-infrastructure\\data\\generated\\Cardiff_United-Kingdom\\graph_drive.gpkg: No such file or directory\n"
     ]
    },
    {
     "name": "stderr",
     "output_type": "stream",
     "text": [
      "Washington D.C.,United States: 100%|██████████| 116/116 [02:25<00:00,  1.26s/it]\n"
     ]
    }
   ],
   "source": [
    "network_type = \"drive\"\n",
    "features = list(FEATURESET.keys())\n",
    "\n",
    "pbar = tqdm(cities.itertuples(), total=cities.shape[0])\n",
    "edges = []\n",
    "for row in pbar:\n",
    "    place_name = f\"{row.city},{row.country}\"\n",
    "    place_dir_name = get_place_dir_name(place_name)\n",
    "    pbar.set_description(place_name)\n",
    "\n",
    "    try:\n",
    "        edges_city = gpd.read_file(GENERATED_DATA_DIR / place_dir_name / f\"graph_{network_type}.gpkg\", layer=\"edges\")\n",
    "        cols_to_add = set(features) - set(edges_city.columns)\n",
    "        edges_city[list(cols_to_add)] = None\n",
    "        edges_city[\"city\"] = row.city\n",
    "        edges_city[\"country\"] = row.country\n",
    "        edges.append(edges_city[features])\n",
    "    except Exception as e:\n",
    "        print(\"\\nFailed\", place_name, e)\n",
    "    \n",
    "\n",
    "edges = pd.concat(edges, ignore_index=True)"
   ]
  },
  {
   "cell_type": "code",
   "execution_count": 10,
   "metadata": {},
   "outputs": [
    {
     "name": "stdout",
     "output_type": "stream",
     "text": [
      "oneway: ['False', 'True'] \n",
      "\n",
      "lanes: ['', '0', '1', '1.3', '1.5', '1.8', '10', '11', '12', '14', '15', '2', '20', '25', '2; 4', '2;4', '3', '30', '3c', '4', '4;2;4', '5', '6', '60', '7', '8', '9', 'no', 'way 403844716'] \n",
      "\n",
      "highway: ['P', 'bus', 'bus_stop', 'busway', 'closed', 'crossing', 'disused', 'emergency_bay', 'escape', 'living_street', 'motorway', 'motorway_link', 'no', 'passing_place', 'pedestrain', 'primary', 'primary_link', 'razed', 'residential', 'rest_area', 'road', 'secondary', 'secondary_link', 'stop', 'street_lamp', 'tertiary', 'tertiary_link', 'toll_gantry', 'trunk', 'trunk_link', 'unclassified', 'via_ferrata'] \n",
      "\n",
      "maxspeed: ['', '1', '10', '10 mph', '100', '100km/h', '110', '12 mph', '120', '120|110|100|90|80|80', '130', '140', '15', '15 mph', '160', '18 mph', '2', '2 mph', '20', '20 mph', '20,30,40', '200', '20;60', '21', '24.14', '25', '25 mph', '29', '3', '30', '30 mph', '30,40,50', '32', '35', '35 mph', '4 mph', '40', '40 mph', '403', '45', '45 mph', '5', '5 mph', '50', '50 mph', '50; 60', '50|30', '50|30|50', '50|50|30', '55 mph', '56', '59', '6', '60', '60 mph', '62', '64', '65 mph', '68', '7', '70', '70 mph', '72', '75 mph', '8', '8 mph', '80', '80,100,120', '82', '90', '90, 80, 80', 'AT:walk', 'AT:zone:30', 'BG:urban', 'BY:living_street', 'BY:urban', 'CZ:urban', 'DE:urban', 'DE:walk', 'FR:urban', 'IT:motorway', 'IT:urban', 'LT:rural', 'RO:urban', 'RU:living_street', 'RU:motorway', 'RU:rural', 'RU:urban', 'UA:urban', 'fr:urban', 'name=Jugozapadna obilaznica', 'none', 'signals', 'variable', 'walk'] \n",
      "\n",
      "bridge: ['', 'abandoned', 'cantilever', 'covered', 'low_water_crossing', 'movable', 'no', 'shoulder', 'suspension', 'viaduct', 'yes'] \n",
      "\n",
      "access: ['', 'agricultural', 'blocked', 'bus', 'construction', 'customers', 'delivery', 'designated', 'destination', 'destination @ Mo-Fr 15:00-19:00 ||', 'destination|||', 'emergency', 'foot', 'forestry', 'hgv', 'hov', 'hov;toll', 'licence', 'local', 'military', 'no', 'official', 'permissive', 'permit', 'psv', 'residential', 'residents', 'restricted', 'service', 'unknown', 'visitors', 'yes', 'yes|bicycle|yes|yes', 'yes|no', 'yes|no|yes', 'yes|yes|bicycle|yes|yes', 'yes|yes|no', 'yes|yes|yes', 'yes|yes|yes|no', 'yes|yes|yes|yes|no'] \n",
      "\n",
      "junction: ['', 'ap', 'approach', 'circular', 'cloverleaf', 'gyratory', 'intersection', 'jughandle', 'roundabout', 'spui', 'true', 'turnaround', 'yes'] \n",
      "\n",
      "width: ['', '0', '0.4', '0.5', '1', '1.2', '1.20', '1.3', '1.30', '1.5', '1.6', '1.60', '1.7', '1.7 m', '1.8', '1.80', '1.88', '1.9', '1.90', '10', '10 m', '10.2', '10.3', '10.4', '10.5', '10.6', '10.75', '10.8', '10m', '11', '11.2', '11.25', '11.4', '11.5', '11.6', '11.7', '11.8', '12', '12.0', '12.2', '12.4', '12.45', '12.5', '12.6', '12.7', '13', '13.2', '13.5', '13.6', '13.7', '13.8', '13.9', '14', '14 (est)', '14.4', '14.5', '14.6', '15', '15 m', '15.2', '15.4', '15.5', '15.60', '16', '16 m', '16.5', '17', '17.2', '17.5', '18', '18.5', '18.75', '19', '19.5', '19.7', '2', '2.0', '2.00', '2.06', '2.1', '2.13', '2.2', '2.20', '2.22', '2.25', '2.3', '2.4', '2.40', '2.49', '2.5', '2.5 m', '2.50', '2.5m-3.5m', '2.6', '2.7', '2.75', '2.8', '2.8 m', '2.9', '20', '20.5', '200', '21', '22', '22.5', '23', '24', '25', '27', '28', \"28'\", '2m', '3', '3 m', '3.0', '3.00', '3.04', '3.07', '3.1', '3.2', '3.2 m', '3.20', '3.25', '3.3', '3.39', '3.4', '3.5', '3.5 m', '3.50', '3.6', '3.60', '3.7', '3.75', '3.8', '3.9', '3.90', \"30'\", '32', \"35'\", '3;5', '3m', '4', '4 m', '4 meter', '4.0', '4.00', '4.2', '4.25', '4.3', '4.4', '4.5', '4.50', '4.6', '4.7', '4.75', '4.8', '4.80', '4.9', '4.90', '40', \"40'\", '45', \"45'\", '4m', '5', '5 m', '5.0', '5.00', '5.1', '5.2', '5.20', '5.25', '5.3', '5.30', '5.4', '5.5', '5.5 m', '5.50', '5.6', '5.60', '5.7', '5.75', '5.8', '5.8 m', '5.89', '5.9', '50', '5m', '6', '6 m', '6.0', '6.00', '6.1', '6.1 m', '6.2', '6.25', '6.3', '6.4', '6.4 m', '6.5', '6.5 m', '6.5+3.7', '6.50', '6.59', '6.6', '6.6 m', '6.60', '6.7', '6.7 m', '6.75', '6.8 m', '6.9', '60', \"60'\", \"63'\", '69.5 ft', '69.6 ft', '7', '7.0', '7.00', '7.1', '7.2', '7.25', '7.3', '7.3 m', '7.4', '7.40', '7.5', '7.5 m', '7.50', '7.6', '7.6 m', '7.7', '7.70', '7.75', '7.8', '7.80', '7.9', '8', '8 m', '8.00', '8.2', '8.25', '8.3', '8.33', '8.4', '8.5', '8.6', '8.7', '8.75', '8.8', '8.9', '8.90', '9', '9.0', '9.00', '9.1', '9.2', '9.3', '9.4', '9.5', '9.6', '9.75', '9.8', '9.89', '9.9', 'Q105688661', 'Unstandardised', 'Unstandardized', 'narrow', 'right side 3.04', 'right- 3.9 m, left - 2.0 m'] \n",
      "\n",
      "tunnel: ['', 'bridge', 'building_passage', 'covered', 'no', 'passage', 'yes'] \n",
      "\n"
     ]
    }
   ],
   "source": [
    "from itertools import chain\n",
    "\n",
    "for f in features:\n",
    "    feature_values_dirty = list(edges[f].value_counts().keys())\n",
    "    feature_values_dirty = list(map(lambda x: eval(x) if \"[\" in str(x) else [str(x)], feature_values_dirty))\n",
    "    feature_values_dirty = list(set(map(lambda x: str(x), chain(*feature_values_dirty))))\n",
    "    feature_values_dirty.sort()\n",
    "    print(f+\":\", feature_values_dirty, \"\\n\")"
   ]
  }
 ],
 "metadata": {
  "interpreter": {
   "hash": "d3c344be017dd5dba7ed0744b138aa90728f55fbc920f4ab22618c6bb6b41028"
  },
  "kernelspec": {
   "display_name": "Python 3.9.7 64-bit ('venv': venv)",
   "language": "python",
   "name": "python3"
  },
  "language_info": {
   "codemirror_mode": {
    "name": "ipython",
    "version": 3
   },
   "file_extension": ".py",
   "mimetype": "text/x-python",
   "name": "python",
   "nbconvert_exporter": "python",
   "pygments_lexer": "ipython3",
   "version": "3.9.7"
  },
  "orig_nbformat": 4
 },
 "nbformat": 4,
 "nbformat_minor": 2
}
