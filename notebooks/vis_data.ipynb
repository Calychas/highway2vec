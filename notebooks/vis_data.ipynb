{
 "cells": [
  {
   "cell_type": "code",
   "execution_count": 1,
   "metadata": {},
   "outputs": [
    {
     "name": "stdout",
     "output_type": "stream",
     "text": [
      "The autoreload extension is already loaded. To reload it, use:\n",
      "  %reload_ext autoreload\n"
     ]
    }
   ],
   "source": [
    "%load_ext autoreload\n",
    "%autoreload 2"
   ]
  },
  {
   "cell_type": "code",
   "execution_count": 2,
   "metadata": {},
   "outputs": [],
   "source": [
    "import pandas as pd\n",
    "import geopandas as gpd\n",
    "import numpy as np\n",
    "from src.settings import *\n",
    "from tqdm.auto import tqdm\n",
    "import matplotlib.pyplot as plt\n",
    "from pathlib import Path\n",
    "import plotly.express as px\n",
    "import matplotlib.pyplot as plt\n",
    "import contextily as ctx\n",
    "from keplergl import KeplerGl\n",
    "import gzip\n",
    "from src.tools.configs import DatasetGenerationConfig\n",
    "from src.tools.feature_extraction import SpatialDataset\n",
    "import pickle as pkl\n",
    "from src.tools.feature_extraction import apply_feature_selection, apply_features_mapping, apply_features_assume\n",
    "import seaborn as sns\n",
    "from src.tools.vis_utils import visualize_kepler, save_config\n",
    "\n",
    "\n",
    "tqdm.pandas()"
   ]
  },
  {
   "cell_type": "code",
   "execution_count": 3,
   "metadata": {},
   "outputs": [
    {
     "data": {
      "text/plain": [
       "{'config': src.tools.configs.DatasetGenerationConfig,\n",
       " 'cities': pandas.core.frame.DataFrame,\n",
       " 'edges': geopandas.geodataframe.GeoDataFrame,\n",
       " 'edges_feature_selected': geopandas.geodataframe.GeoDataFrame,\n",
       " 'hexagons': geopandas.geodataframe.GeoDataFrame,\n",
       " 'hex_agg': typing.Optional[pandas.core.frame.DataFrame],\n",
       " 'hex_agg_normalized': typing.Optional[pandas.core.frame.DataFrame]}"
      ]
     },
     "execution_count": 3,
     "metadata": {},
     "output_type": "execute_result"
    }
   ],
   "source": [
    "# dataset_filename=\"dataset_2022-01-04_20-41-53_poland.pkl.gz\"\n",
    "dataset_filename=\"dataset_2022-01-04_20-50-24_all.pkl.gz\"\n",
    "\n",
    "\n",
    "ds_path = FEATURES_DIR / dataset_filename\n",
    "with gzip.open(ds_path, \"rb\") as f:\n",
    "    ds: SpatialDataset = pkl.load(f)\n",
    "\n",
    "ds.__annotations__"
   ]
  },
  {
   "cell_type": "code",
   "execution_count": 4,
   "metadata": {},
   "outputs": [],
   "source": [
    "ds_config = ds.config\n",
    "cities = ds.cities\n",
    "edges = ds.edges\n",
    "edges_feature_selected = ds.edges_feature_selected\n",
    "hexagons = ds.hexagons\n",
    "hex_agg = ds.hex_agg\n",
    "hex_agg_normalized = ds.hex_agg_normalized\n",
    "random_seed = 42"
   ]
  },
  {
   "cell_type": "code",
   "execution_count": 5,
   "metadata": {},
   "outputs": [],
   "source": [
    "# edges_selected = apply_feature_selection(edges, ds_config.featureset_selection)\n",
    "# edges_selected = apply_features_mapping(edges_selected, [{\n",
    "#     \"feature\": \"highway\",\n",
    "#     \"mapping\": {\n",
    "#         \"motorway_link\": \"motorway\",\n",
    "#         \"primary_link\": \"primary\",\n",
    "#         \"secondary_link\": \"secondary\",\n",
    "#         \"tertiary_link\": \"tertiary\",\n",
    "#         \"trunk_link\": \"trunk\"\n",
    "#     }\n",
    "# }])\n",
    "# edges = apply_features_mapping(edges, [{\n",
    "#     \"feature\": \"surface\",\n",
    "#     \"mapping\": {\n",
    "#         \"asphalt\": \"paved\",\n",
    "#         \"paving_stones\": \"paved\",\n",
    "#         \"concrete\": \"paved\",\n",
    "#         \"concrete_prefabricated\": \"paved\",\n",
    "#         \"compacted\": \"unpaved\",\n",
    "#         \"ground\": \"unpaved\"\n",
    "#     }\n",
    "# }])\n",
    "# # edges_selected = apply_features_mapping(edges_selected, [{\n",
    "# #     \"feature\": \"highway\",\n",
    "# #     \"mapping\": {\n",
    "# #         'secondary': 'not_residential', \n",
    "# #         'tertiary': 'not_residential', \n",
    "# #         'living_street': 'not_residential', \n",
    "# #         'primary': 'not_residential', \n",
    "# #         'unclassified': 'not_residential', \n",
    "# #         'motorway': 'not_residential', \n",
    "# #         'trunk': 'not_residential'\n",
    "# #     }\n",
    "# # }])\n",
    "# edges = apply_features_assume(edges, {\n",
    "#       \"surface\": \"paved\",\n",
    "# })\n",
    "# edges_selected"
   ]
  },
  {
   "cell_type": "code",
   "execution_count": 6,
   "metadata": {},
   "outputs": [
    {
     "name": "stderr",
     "output_type": "stream",
     "text": [
      "surface: 100%|██████████| 10/10 [00:47<00:00,  4.76s/it]\n"
     ]
    },
    {
     "data": {
      "text/html": [
       "<div>\n",
       "<style scoped>\n",
       "    .dataframe tbody tr th:only-of-type {\n",
       "        vertical-align: middle;\n",
       "    }\n",
       "\n",
       "    .dataframe tbody tr th {\n",
       "        vertical-align: top;\n",
       "    }\n",
       "\n",
       "    .dataframe thead th {\n",
       "        text-align: right;\n",
       "    }\n",
       "</style>\n",
       "<table border=\"1\" class=\"dataframe\">\n",
       "  <thead>\n",
       "    <tr style=\"text-align: right;\">\n",
       "      <th></th>\n",
       "      <th></th>\n",
       "      <th></th>\n",
       "      <th></th>\n",
       "      <th>oneway</th>\n",
       "      <th>lanes</th>\n",
       "      <th>highway</th>\n",
       "      <th>maxspeed</th>\n",
       "      <th>bridge</th>\n",
       "      <th>access</th>\n",
       "      <th>junction</th>\n",
       "      <th>width</th>\n",
       "      <th>tunnel</th>\n",
       "      <th>surface</th>\n",
       "      <th>geometry</th>\n",
       "    </tr>\n",
       "    <tr>\n",
       "      <th>continent</th>\n",
       "      <th>country</th>\n",
       "      <th>city</th>\n",
       "      <th>h3_id</th>\n",
       "      <th></th>\n",
       "      <th></th>\n",
       "      <th></th>\n",
       "      <th></th>\n",
       "      <th></th>\n",
       "      <th></th>\n",
       "      <th></th>\n",
       "      <th></th>\n",
       "      <th></th>\n",
       "      <th></th>\n",
       "      <th></th>\n",
       "    </tr>\n",
       "  </thead>\n",
       "  <tbody>\n",
       "    <tr>\n",
       "      <th rowspan=\"5\" valign=\"top\">Asia</th>\n",
       "      <th rowspan=\"5\" valign=\"top\">Kazakhstan</th>\n",
       "      <th rowspan=\"5\" valign=\"top\">Nur-Sultan</th>\n",
       "      <th>89215382263ffff</th>\n",
       "      <td>oneway_True</td>\n",
       "      <td>lanes_2</td>\n",
       "      <td>highway_secondary</td>\n",
       "      <td>maxspeed_60</td>\n",
       "      <td>NaN</td>\n",
       "      <td>NaN</td>\n",
       "      <td>NaN</td>\n",
       "      <td>NaN</td>\n",
       "      <td>NaN</td>\n",
       "      <td>surface_asphalt</td>\n",
       "      <td>LINESTRING (71.41203 51.12007, 71.41202 51.11999)</td>\n",
       "    </tr>\n",
       "    <tr>\n",
       "      <th>89215382263ffff</th>\n",
       "      <td>oneway_True</td>\n",
       "      <td>NaN</td>\n",
       "      <td>highway_residential</td>\n",
       "      <td>NaN</td>\n",
       "      <td>NaN</td>\n",
       "      <td>NaN</td>\n",
       "      <td>NaN</td>\n",
       "      <td>NaN</td>\n",
       "      <td>NaN</td>\n",
       "      <td>NaN</td>\n",
       "      <td>LINESTRING (71.41203 51.12007, 71.41173 51.120...</td>\n",
       "    </tr>\n",
       "    <tr>\n",
       "      <th>8921538227bffff</th>\n",
       "      <td>oneway_True</td>\n",
       "      <td>NaN</td>\n",
       "      <td>highway_residential</td>\n",
       "      <td>NaN</td>\n",
       "      <td>NaN</td>\n",
       "      <td>NaN</td>\n",
       "      <td>NaN</td>\n",
       "      <td>NaN</td>\n",
       "      <td>NaN</td>\n",
       "      <td>NaN</td>\n",
       "      <td>LINESTRING (71.41203 51.12007, 71.41173 51.120...</td>\n",
       "    </tr>\n",
       "    <tr>\n",
       "      <th>89215382273ffff</th>\n",
       "      <td>oneway_True</td>\n",
       "      <td>NaN</td>\n",
       "      <td>highway_residential</td>\n",
       "      <td>NaN</td>\n",
       "      <td>NaN</td>\n",
       "      <td>NaN</td>\n",
       "      <td>NaN</td>\n",
       "      <td>NaN</td>\n",
       "      <td>NaN</td>\n",
       "      <td>NaN</td>\n",
       "      <td>LINESTRING (71.41203 51.12007, 71.41173 51.120...</td>\n",
       "    </tr>\n",
       "    <tr>\n",
       "      <th>89215382263ffff</th>\n",
       "      <td>oneway_True</td>\n",
       "      <td>lanes_2</td>\n",
       "      <td>highway_secondary</td>\n",
       "      <td>maxspeed_60</td>\n",
       "      <td>NaN</td>\n",
       "      <td>NaN</td>\n",
       "      <td>NaN</td>\n",
       "      <td>NaN</td>\n",
       "      <td>NaN</td>\n",
       "      <td>surface_asphalt</td>\n",
       "      <td>LINESTRING (71.41241 51.12216, 71.41203 51.12007)</td>\n",
       "    </tr>\n",
       "    <tr>\n",
       "      <th>...</th>\n",
       "      <th>...</th>\n",
       "      <th>...</th>\n",
       "      <th>...</th>\n",
       "      <td>...</td>\n",
       "      <td>...</td>\n",
       "      <td>...</td>\n",
       "      <td>...</td>\n",
       "      <td>...</td>\n",
       "      <td>...</td>\n",
       "      <td>...</td>\n",
       "      <td>...</td>\n",
       "      <td>...</td>\n",
       "      <td>...</td>\n",
       "      <td>...</td>\n",
       "    </tr>\n",
       "    <tr>\n",
       "      <th rowspan=\"5\" valign=\"top\">Oceania</th>\n",
       "      <th rowspan=\"5\" valign=\"top\">Australia</th>\n",
       "      <th rowspan=\"5\" valign=\"top\">Sydney</th>\n",
       "      <th>89be0845cc7ffff</th>\n",
       "      <td>oneway_False</td>\n",
       "      <td>NaN</td>\n",
       "      <td>highway_unclassified</td>\n",
       "      <td>NaN</td>\n",
       "      <td>NaN</td>\n",
       "      <td>NaN</td>\n",
       "      <td>NaN</td>\n",
       "      <td>NaN</td>\n",
       "      <td>NaN</td>\n",
       "      <td>NaN</td>\n",
       "      <td>LINESTRING (150.55109 -33.68300, 150.55109 -33...</td>\n",
       "    </tr>\n",
       "    <tr>\n",
       "      <th>89be0845c8bffff</th>\n",
       "      <td>oneway_False</td>\n",
       "      <td>NaN</td>\n",
       "      <td>highway_unclassified</td>\n",
       "      <td>NaN</td>\n",
       "      <td>NaN</td>\n",
       "      <td>NaN</td>\n",
       "      <td>NaN</td>\n",
       "      <td>NaN</td>\n",
       "      <td>NaN</td>\n",
       "      <td>NaN</td>\n",
       "      <td>LINESTRING (150.55109 -33.68300, 150.55114 -33...</td>\n",
       "    </tr>\n",
       "    <tr>\n",
       "      <th>89be0845c83ffff</th>\n",
       "      <td>oneway_False</td>\n",
       "      <td>NaN</td>\n",
       "      <td>highway_residential</td>\n",
       "      <td>NaN</td>\n",
       "      <td>NaN</td>\n",
       "      <td>NaN</td>\n",
       "      <td>NaN</td>\n",
       "      <td>NaN</td>\n",
       "      <td>NaN</td>\n",
       "      <td>surface_paved</td>\n",
       "      <td>LINESTRING (150.55027 -33.68809, 150.55039 -33...</td>\n",
       "    </tr>\n",
       "    <tr>\n",
       "      <th>89be0844223ffff</th>\n",
       "      <td>oneway_True</td>\n",
       "      <td>NaN</td>\n",
       "      <td>highway_residential</td>\n",
       "      <td>NaN</td>\n",
       "      <td>NaN</td>\n",
       "      <td>NaN</td>\n",
       "      <td>NaN</td>\n",
       "      <td>NaN</td>\n",
       "      <td>NaN</td>\n",
       "      <td>surface_paved</td>\n",
       "      <td>LINESTRING (150.55651 -33.69712, 150.55644 -33...</td>\n",
       "    </tr>\n",
       "    <tr>\n",
       "      <th>89be0844233ffff</th>\n",
       "      <td>oneway_True</td>\n",
       "      <td>NaN</td>\n",
       "      <td>highway_residential</td>\n",
       "      <td>NaN</td>\n",
       "      <td>NaN</td>\n",
       "      <td>NaN</td>\n",
       "      <td>NaN</td>\n",
       "      <td>NaN</td>\n",
       "      <td>NaN</td>\n",
       "      <td>surface_paved</td>\n",
       "      <td>LINESTRING (150.55651 -33.69712, 150.55644 -33...</td>\n",
       "    </tr>\n",
       "  </tbody>\n",
       "</table>\n",
       "<p>3397346 rows × 11 columns</p>\n",
       "</div>"
      ],
      "text/plain": [
       "                                                       oneway    lanes  \\\n",
       "continent country    city       h3_id                                    \n",
       "Asia      Kazakhstan Nur-Sultan 89215382263ffff   oneway_True  lanes_2   \n",
       "                                89215382263ffff   oneway_True      NaN   \n",
       "                                8921538227bffff   oneway_True      NaN   \n",
       "                                89215382273ffff   oneway_True      NaN   \n",
       "                                89215382263ffff   oneway_True  lanes_2   \n",
       "...                                                       ...      ...   \n",
       "Oceania   Australia  Sydney     89be0845cc7ffff  oneway_False      NaN   \n",
       "                                89be0845c8bffff  oneway_False      NaN   \n",
       "                                89be0845c83ffff  oneway_False      NaN   \n",
       "                                89be0844223ffff   oneway_True      NaN   \n",
       "                                89be0844233ffff   oneway_True      NaN   \n",
       "\n",
       "                                                              highway  \\\n",
       "continent country    city       h3_id                                   \n",
       "Asia      Kazakhstan Nur-Sultan 89215382263ffff     highway_secondary   \n",
       "                                89215382263ffff   highway_residential   \n",
       "                                8921538227bffff   highway_residential   \n",
       "                                89215382273ffff   highway_residential   \n",
       "                                89215382263ffff     highway_secondary   \n",
       "...                                                               ...   \n",
       "Oceania   Australia  Sydney     89be0845cc7ffff  highway_unclassified   \n",
       "                                89be0845c8bffff  highway_unclassified   \n",
       "                                89be0845c83ffff   highway_residential   \n",
       "                                89be0844223ffff   highway_residential   \n",
       "                                89be0844233ffff   highway_residential   \n",
       "\n",
       "                                                    maxspeed bridge access  \\\n",
       "continent country    city       h3_id                                        \n",
       "Asia      Kazakhstan Nur-Sultan 89215382263ffff  maxspeed_60    NaN    NaN   \n",
       "                                89215382263ffff          NaN    NaN    NaN   \n",
       "                                8921538227bffff          NaN    NaN    NaN   \n",
       "                                89215382273ffff          NaN    NaN    NaN   \n",
       "                                89215382263ffff  maxspeed_60    NaN    NaN   \n",
       "...                                                      ...    ...    ...   \n",
       "Oceania   Australia  Sydney     89be0845cc7ffff          NaN    NaN    NaN   \n",
       "                                89be0845c8bffff          NaN    NaN    NaN   \n",
       "                                89be0845c83ffff          NaN    NaN    NaN   \n",
       "                                89be0844223ffff          NaN    NaN    NaN   \n",
       "                                89be0844233ffff          NaN    NaN    NaN   \n",
       "\n",
       "                                                junction width tunnel  \\\n",
       "continent country    city       h3_id                                   \n",
       "Asia      Kazakhstan Nur-Sultan 89215382263ffff      NaN   NaN    NaN   \n",
       "                                89215382263ffff      NaN   NaN    NaN   \n",
       "                                8921538227bffff      NaN   NaN    NaN   \n",
       "                                89215382273ffff      NaN   NaN    NaN   \n",
       "                                89215382263ffff      NaN   NaN    NaN   \n",
       "...                                                  ...   ...    ...   \n",
       "Oceania   Australia  Sydney     89be0845cc7ffff      NaN   NaN    NaN   \n",
       "                                89be0845c8bffff      NaN   NaN    NaN   \n",
       "                                89be0845c83ffff      NaN   NaN    NaN   \n",
       "                                89be0844223ffff      NaN   NaN    NaN   \n",
       "                                89be0844233ffff      NaN   NaN    NaN   \n",
       "\n",
       "                                                         surface  \\\n",
       "continent country    city       h3_id                              \n",
       "Asia      Kazakhstan Nur-Sultan 89215382263ffff  surface_asphalt   \n",
       "                                89215382263ffff              NaN   \n",
       "                                8921538227bffff              NaN   \n",
       "                                89215382273ffff              NaN   \n",
       "                                89215382263ffff  surface_asphalt   \n",
       "...                                                          ...   \n",
       "Oceania   Australia  Sydney     89be0845cc7ffff              NaN   \n",
       "                                89be0845c8bffff              NaN   \n",
       "                                89be0845c83ffff    surface_paved   \n",
       "                                89be0844223ffff    surface_paved   \n",
       "                                89be0844233ffff    surface_paved   \n",
       "\n",
       "                                                                                          geometry  \n",
       "continent country    city       h3_id                                                               \n",
       "Asia      Kazakhstan Nur-Sultan 89215382263ffff  LINESTRING (71.41203 51.12007, 71.41202 51.11999)  \n",
       "                                89215382263ffff  LINESTRING (71.41203 51.12007, 71.41173 51.120...  \n",
       "                                8921538227bffff  LINESTRING (71.41203 51.12007, 71.41173 51.120...  \n",
       "                                89215382273ffff  LINESTRING (71.41203 51.12007, 71.41173 51.120...  \n",
       "                                89215382263ffff  LINESTRING (71.41241 51.12216, 71.41203 51.12007)  \n",
       "...                                                                                            ...  \n",
       "Oceania   Australia  Sydney     89be0845cc7ffff  LINESTRING (150.55109 -33.68300, 150.55109 -33...  \n",
       "                                89be0845c8bffff  LINESTRING (150.55109 -33.68300, 150.55114 -33...  \n",
       "                                89be0845c83ffff  LINESTRING (150.55027 -33.68809, 150.55039 -33...  \n",
       "                                89be0844223ffff  LINESTRING (150.55651 -33.69712, 150.55644 -33...  \n",
       "                                89be0844233ffff  LINESTRING (150.55651 -33.69712, 150.55644 -33...  \n",
       "\n",
       "[3397346 rows x 11 columns]"
      ]
     },
     "execution_count": 6,
     "metadata": {},
     "output_type": "execute_result"
    }
   ],
   "source": [
    "feature_items = [(a, [f\"{a}_{c}\" for c in b]) for a, b in ds_config.featureset_selection[\"features\"].items()]\n",
    "edges_long = gpd.GeoDataFrame()\n",
    "pbar = tqdm(feature_items)\n",
    "for feature_name, features_superset in pbar:\n",
    "    pbar.set_description(feature_name)\n",
    "    features = list(set(edges_feature_selected.columns) & set(features_superset))\n",
    "    try: \n",
    "        edges_long[feature_name] = edges_feature_selected[features].idxmax(axis=1).astype(\"category\")\n",
    "        edges_long[feature_name][edges_feature_selected[features].sum(axis=1) == 0] = None\n",
    "    except Exception as e:\n",
    "        print(e)\n",
    "edges_long[\"geometry\"] = edges[\"geometry\"]\n",
    "edges_long"
   ]
  },
  {
   "cell_type": "code",
   "execution_count": 7,
   "metadata": {},
   "outputs": [],
   "source": [
    "# config_name = \"edges_raw\"\n",
    "\n",
    "# edges_keplergl = edges_long.astype(str).reset_index().drop(columns=[\"h3_id\"])\n",
    "# hexagons_keplergl = hexagons.reset_index().drop(columns=[\"coordinates\", \"parent\", \"children\"])\n",
    "# hexagons_keplergl[\"h3_id\"] = hexagons_keplergl[\"h3_id\"].map(lambda x: f\"hex_{x}\")\n",
    "# m = visualize_kepler(data={\n",
    "#         \"edges\": edges_keplergl,\n",
    "#         \"hexagons\": hexagons_keplergl\n",
    "#     }, \n",
    "#     config_name=config_name)\n",
    "# m"
   ]
  },
  {
   "cell_type": "code",
   "execution_count": 8,
   "metadata": {},
   "outputs": [],
   "source": [
    "# save_config(m, config_name=config_name)"
   ]
  },
  {
   "cell_type": "code",
   "execution_count": 9,
   "metadata": {},
   "outputs": [],
   "source": [
    "plt.style.use('seaborn-paper')"
   ]
  },
  {
   "cell_type": "markdown",
   "metadata": {},
   "source": [
    "# Geo counts\n"
   ]
  },
  {
   "cell_type": "code",
   "execution_count": 10,
   "metadata": {},
   "outputs": [],
   "source": [
    "df_index = edges.index.droplevel(3).unique().to_frame().reset_index(drop=True)"
   ]
  },
  {
   "cell_type": "code",
   "execution_count": 11,
   "metadata": {},
   "outputs": [
    {
     "data": {
      "text/plain": [
       "97"
      ]
     },
     "execution_count": 11,
     "metadata": {},
     "output_type": "execute_result"
    }
   ],
   "source": [
    "len(df_index)"
   ]
  },
  {
   "cell_type": "code",
   "execution_count": 12,
   "metadata": {},
   "outputs": [
    {
     "data": {
      "text/plain": [
       "<AxesSubplot:ylabel='Continent'>"
      ]
     },
     "execution_count": 12,
     "metadata": {},
     "output_type": "execute_result"
    },
    {
     "data": {
      "image/png": "[encoded data removed]",
      "text/plain": [
       "<Figure size 460.8x316.8 with 1 Axes>"
      ]
     },
     "metadata": {
      "needs_background": "light"
     },
     "output_type": "display_data"
    }
   ],
   "source": [
    "df_continents = df_index.groupby(\"continent\")[\"country\"].count().sort_values()\n",
    "ax = df_continents.plot(kind=\"barh\", xlabel=\"Continent\", ylabel=\"Count\")\n",
    "for i, v in enumerate(df_continents):\n",
    "    ax.text(v, i, str(v), color='dimgray', va='center', fontweight='bold')\n",
    "plt.tight_layout()\n",
    "plt.savefig(FIGURES_DIR / \"cities_in_continents_count.png\")\n",
    "ax"
   ]
  },
  {
   "cell_type": "code",
   "execution_count": 13,
   "metadata": {},
   "outputs": [
    {
     "data": {
      "text/plain": [
       "<AxesSubplot:ylabel='Country'>"
      ]
     },
     "execution_count": 13,
     "metadata": {},
     "output_type": "execute_result"
    },
    {
     "data": {
      "image/png": "[encoded data removed]",
      "text/plain": [
       "<Figure size 432x720 with 1 Axes>"
      ]
     },
     "metadata": {
      "needs_background": "light"
     },
     "output_type": "display_data"
    }
   ],
   "source": [
    "fig, ax = plt.subplots(1, 1, figsize=(6, 10))\n",
    "df_countries = df_index.groupby(\"country\")[\"city\"].count().reset_index().sort_values([\"city\", \"country\"])\n",
    "ax = df_countries.plot(kind=\"barh\", x=\"country\", y=\"city\", xlabel=\"Country\", ax=ax, legend=False)\n",
    "# for i, v in enumerate(df_countries):\n",
    "#     ax.text(v, i, \" \" + str(v), color='dimgray', va='center')\n",
    "plt.xticks(ticks=np.arange(df_countries[\"city\"].max() + 1))\n",
    "plt.tight_layout()\n",
    "plt.savefig(FIGURES_DIR / \"cities_in_countries_count.png\")\n",
    "ax"
   ]
  },
  {
   "cell_type": "markdown",
   "metadata": {},
   "source": [
    "# Edges"
   ]
  },
  {
   "cell_type": "code",
   "execution_count": 14,
   "metadata": {},
   "outputs": [
    {
     "data": {
      "text/plain": [
       "3397346"
      ]
     },
     "execution_count": 14,
     "metadata": {},
     "output_type": "execute_result"
    }
   ],
   "source": [
    "len(edges_long)"
   ]
  },
  {
   "cell_type": "code",
   "execution_count": 15,
   "metadata": {},
   "outputs": [
    {
     "data": {
      "text/plain": [
       "<AxesSubplot:xlabel='continent'>"
      ]
     },
     "execution_count": 15,
     "metadata": {},
     "output_type": "execute_result"
    },
    {
     "data": {
      "image/png": "[encoded data removed]",
      "text/plain": [
       "<Figure size 460.8x316.8 with 1 Axes>"
      ]
     },
     "metadata": {
      "needs_background": "light"
     },
     "output_type": "display_data"
    }
   ],
   "source": [
    "edges[\"u\"].groupby(level=0).count().plot(kind=\"bar\")"
   ]
  },
  {
   "cell_type": "code",
   "execution_count": 16,
   "metadata": {},
   "outputs": [
    {
     "data": {
      "text/plain": [
       "<AxesSubplot:xlabel='country'>"
      ]
     },
     "execution_count": 16,
     "metadata": {},
     "output_type": "execute_result"
    },
    {
     "data": {
      "image/png": "[encoded data removed]",
      "text/plain": [
       "<Figure size 720x432 with 1 Axes>"
      ]
     },
     "metadata": {
      "needs_background": "light"
     },
     "output_type": "display_data"
    }
   ],
   "source": [
    "fig, ax = plt.subplots(1, 1, figsize=(10, 6))\n",
    "edges[\"u\"].groupby(level=1).count().plot(kind=\"bar\", ax=ax)"
   ]
  },
  {
   "cell_type": "code",
   "execution_count": 37,
   "metadata": {},
   "outputs": [
    {
     "data": {
      "text/plain": [
       "<AxesSubplot:xlabel='city'>"
      ]
     },
     "execution_count": 37,
     "metadata": {},
     "output_type": "execute_result"
    },
    {
     "data": {
      "image/png": "[encoded data removed]",
      "text/plain": [
       "<Figure size 1296x432 with 1 Axes>"
      ]
     },
     "metadata": {
      "needs_background": "light"
     },
     "output_type": "display_data"
    }
   ],
   "source": [
    "fig, ax = plt.subplots(1, 1, figsize=(18, 6))\n",
    "# edges.xs(\"Poland\", level=1, drop_level=False)[\"u\"].groupby(level=2).count().plot(kind=\"bar\", ax=ax)\n",
    "edges[\"u\"].groupby(level=2).count().plot(kind=\"bar\", ax=ax)"
   ]
  },
  {
   "cell_type": "markdown",
   "metadata": {},
   "source": [
    "# Hexagons\n"
   ]
  },
  {
   "cell_type": "code",
   "execution_count": 18,
   "metadata": {},
   "outputs": [
    {
     "data": {
      "text/plain": [
       "559784"
      ]
     },
     "execution_count": 18,
     "metadata": {},
     "output_type": "execute_result"
    }
   ],
   "source": [
    "len(hexagons)"
   ]
  },
  {
   "cell_type": "code",
   "execution_count": 19,
   "metadata": {},
   "outputs": [
    {
     "data": {
      "text/plain": [
       "<AxesSubplot:xlabel='continent'>"
      ]
     },
     "execution_count": 19,
     "metadata": {},
     "output_type": "execute_result"
    },
    {
     "data": {
      "image/png": "[encoded data removed]",
      "text/plain": [
       "<Figure size 460.8x316.8 with 1 Axes>"
      ]
     },
     "metadata": {
      "needs_background": "light"
     },
     "output_type": "display_data"
    }
   ],
   "source": [
    "hexagons[\"parent\"].groupby(level=0).count().plot(kind=\"bar\")"
   ]
  },
  {
   "cell_type": "code",
   "execution_count": 53,
   "metadata": {},
   "outputs": [
    {
     "data": {
      "text/plain": [
       "<AxesSubplot:xlabel='country'>"
      ]
     },
     "execution_count": 53,
     "metadata": {},
     "output_type": "execute_result"
    },
    {
     "data": {
      "image/png": "[encoded data removed]",
      "text/plain": [
       "<Figure size 720x432 with 1 Axes>"
      ]
     },
     "metadata": {
      "needs_background": "light"
     },
     "output_type": "display_data"
    }
   ],
   "source": [
    "fig, ax = plt.subplots(1, 1, figsize=(10, 6))\n",
    "hexagons[\"parent\"].drop(index=[\"Dubai\", \"Istanbul\", \"Sydney\"], level=2).groupby(level=1).count().plot(kind=\"bar\", ax=ax)"
   ]
  },
  {
   "cell_type": "code",
   "execution_count": 60,
   "metadata": {},
   "outputs": [
    {
     "data": {
      "image/png": "[encoded data removed]",
      "text/plain": [
       "<Figure size 432x1296 with 1 Axes>"
      ]
     },
     "metadata": {
      "needs_background": "light"
     },
     "output_type": "display_data"
    }
   ],
   "source": [
    "fig, ax = plt.subplots(1, 1, figsize=(6, 18))\n",
    "# hexagons.xs(\"Poland\", level=1, drop_level=False)[\"parent\"].groupby(level=2).count().plot(kind=\"bar\", ax=ax)\n",
    "hexagons_in_cities_count = hexagons[\"parent\"].groupby(level=2).count()\\\n",
    ".drop(index=[\"Dubai\", \"Istanbul\", \"Sydney\"])\\\n",
    ".sort_values()\n",
    "hexagons_in_cities_count.plot(kind=\"barh\", ax=ax, xlabel=\"City\")\n",
    "plt.tight_layout()\n",
    "plt.savefig(FIGURES_DIR / \"hexagons_in_cities_count.png\")"
   ]
  },
  {
   "cell_type": "markdown",
   "metadata": {},
   "source": [
    "# Hex_agg\n"
   ]
  },
  {
   "cell_type": "code",
   "execution_count": 22,
   "metadata": {},
   "outputs": [
    {
     "data": {
      "text/plain": [
       "271393"
      ]
     },
     "execution_count": 22,
     "metadata": {},
     "output_type": "execute_result"
    }
   ],
   "source": [
    "len(hex_agg)"
   ]
  },
  {
   "cell_type": "code",
   "execution_count": 23,
   "metadata": {},
   "outputs": [
    {
     "data": {
      "text/plain": [
       "<AxesSubplot:xlabel='continent'>"
      ]
     },
     "execution_count": 23,
     "metadata": {},
     "output_type": "execute_result"
    },
    {
     "data": {
      "image/png": "[encoded data removed]",
      "text/plain": [
       "<Figure size 460.8x316.8 with 1 Axes>"
      ]
     },
     "metadata": {
      "needs_background": "light"
     },
     "output_type": "display_data"
    }
   ],
   "source": [
    "hex_agg[\"oneway_True\"].groupby(level=0).count().plot(kind=\"bar\")"
   ]
  },
  {
   "cell_type": "code",
   "execution_count": 24,
   "metadata": {},
   "outputs": [
    {
     "data": {
      "text/plain": [
       "<AxesSubplot:xlabel='country'>"
      ]
     },
     "execution_count": 24,
     "metadata": {},
     "output_type": "execute_result"
    },
    {
     "data": {
      "image/png": "[encoded data removed]",
      "text/plain": [
       "<Figure size 720x432 with 1 Axes>"
      ]
     },
     "metadata": {
      "needs_background": "light"
     },
     "output_type": "display_data"
    }
   ],
   "source": [
    "fig, ax = plt.subplots(1, 1, figsize=(10, 6))\n",
    "hex_agg[\"oneway_True\"].groupby(level=1).count().plot(kind=\"bar\", ax=ax)"
   ]
  },
  {
   "cell_type": "code",
   "execution_count": 25,
   "metadata": {},
   "outputs": [
    {
     "data": {
      "text/plain": [
       "<AxesSubplot:xlabel='city'>"
      ]
     },
     "execution_count": 25,
     "metadata": {},
     "output_type": "execute_result"
    },
    {
     "data": {
      "image/png": "[encoded data removed]",
      "text/plain": [
       "<Figure size 1296x432 with 1 Axes>"
      ]
     },
     "metadata": {
      "needs_background": "light"
     },
     "output_type": "display_data"
    }
   ],
   "source": [
    "fig, ax = plt.subplots(1, 1, figsize=(18, 6))\n",
    "# hex_agg.xs(\"Poland\", level=1, drop_level=False)[\"oneway_True\"].groupby(level=2).count().plot(kind=\"bar\", ax=ax)\n",
    "hex_agg[\"oneway_True\"].groupby(level=2).count().plot(kind=\"bar\", ax=ax)"
   ]
  },
  {
   "cell_type": "markdown",
   "metadata": {},
   "source": [
    "# Features"
   ]
  },
  {
   "cell_type": "code",
   "execution_count": 26,
   "metadata": {},
   "outputs": [
    {
     "name": "stdout",
     "output_type": "stream",
     "text": [
      "Templates configuration\n",
      "-----------------------\n",
      "    Default template: 'plotly'\n",
      "    Available templates:\n",
      "        ['ggplot2', 'seaborn', 'simple_white', 'plotly',\n",
      "         'plotly_white', 'plotly_dark', 'presentation', 'xgridoff',\n",
      "         'ygridoff', 'gridon', 'none']\n",
      "\n"
     ]
    }
   ],
   "source": [
    "import plotly.io as pio\n",
    "print(pio.templates)\n",
    "pio.templates.default = \"none\""
   ]
  },
  {
   "cell_type": "code",
   "execution_count": 27,
   "metadata": {},
   "outputs": [
    {
     "data": {
      "application/vnd.plotly.v1+json": {
       "config": {
        "plotlyServerURL": "https://plot.ly"
       },
       "data": [
        {
         "alignmentgroup": "True",
         "hovertemplate": "index=%{x}<br>Share=%{marker.color}<extra></extra>",
         "legendgroup": "",
         "marker": {
          "color": [
           100,
           99.94,
           51.28,
           40.63,
           30.07,
           2.62,
           2.44,
           0.71,
           0.58,
           0.51
          ],
          "coloraxis": "coloraxis",
          "pattern": {
           "shape": ""
          }
         },
         "name": "",
         "offsetgroup": "",
         "orientation": "v",
         "showlegend": false,
         "text": [
          100,
          99.94,
          51.28,
          40.63,
          30.07,
          2.62,
          2.44,
          0.71,
          0.58,
          0.51
         ],
         "textposition": "outside",
         "type": "bar",
         "x": [
          "oneway",
          "highway",
          "surface",
          "maxspeed",
          "lanes",
          "bridge",
          "junction",
          "tunnel",
          "width",
          "access"
         ],
         "xaxis": "x",
         "y": [
          100,
          99.94,
          51.28,
          40.63,
          30.07,
          2.62,
          2.44,
          0.71,
          0.58,
          0.51
         ],
         "yaxis": "y"
        }
       ],
       "layout": {
        "barmode": "relative",
        "coloraxis": {
         "colorbar": {
          "title": {
           "text": "Share"
          }
         },
         "colorscale": [
          [
           0,
           "#440154"
          ],
          [
           0.1111111111111111,
           "#482878"
          ],
          [
           0.2222222222222222,
           "#3e4989"
          ],
          [
           0.3333333333333333,
           "#31688e"
          ],
          [
           0.4444444444444444,
           "#26828e"
          ],
          [
           0.5555555555555556,
           "#1f9e89"
          ],
          [
           0.6666666666666666,
           "#35b779"
          ],
          [
           0.7777777777777778,
           "#6ece58"
          ],
          [
           0.8888888888888888,
           "#b5de2b"
          ],
          [
           1,
           "#fde725"
          ]
         ]
        },
        "height": 400,
        "legend": {
         "tracegroupgap": 0
        },
        "margin": {
         "b": 50,
         "l": 50,
         "r": 50,
         "t": 50
        },
        "showlegend": false,
        "template": {
         "data": {
          "scatter": [
           {
            "type": "scatter"
           }
          ]
         }
        },
        "title": {
         "text": "Feature occurrence in 3397346 road segments"
        },
        "width": 800,
        "xaxis": {
         "anchor": "y",
         "domain": [
          0,
          1
         ],
         "title": {
          "text": "Feature"
         }
        },
        "yaxis": {
         "anchor": "x",
         "domain": [
          0,
          1
         ],
         "range": [
          -1,
          110
         ],
         "title": {
          "text": "Share"
         }
        }
       }
      }
     },
     "metadata": {},
     "output_type": "display_data"
    }
   ],
   "source": [
    "n = len(edges_long)\n",
    "edges_feature_count = pd.DataFrame(edges_long.drop(columns=\"geometry\").notnull().sum().sort_values(ascending=False), columns=[\"count\"])\n",
    "edges_feature_share = round(100 * edges_feature_count / n, 2).rename(columns={\"count\": \"Share\"})\n",
    "fig = px.bar(\n",
    "    edges_feature_share.reset_index(),\n",
    "    x=\"index\",\n",
    "    y=\"Share\", \n",
    "    width=800,\n",
    "    height=400, \n",
    "    title=f\"Feature occurrence in {n} road segments\",\n",
    "    text=\"Share\",\n",
    "    color=\"Share\",\n",
    "    # color_continuous_scale=\"Turbo\",\n",
    ")\n",
    "fig.update_layout(\n",
    "    xaxis = dict(\n",
    "        title = \"Feature\"\n",
    "    ),\n",
    "    yaxis = dict(\n",
    "        title = \"Share\",\n",
    "        range = [-1, 110]\n",
    "    ),\n",
    "    margin=dict(l=50, r=50, t=50, b=50),\n",
    "    showlegend = False   \n",
    ")\n",
    "fig.update_traces( textposition='outside')\n",
    "fig.show()\n",
    "fig.write_image(FIGURES_DIR / \"feature_shares.jpg\")"
   ]
  },
  {
   "cell_type": "code",
   "execution_count": 28,
   "metadata": {},
   "outputs": [
    {
     "data": {
      "application/vnd.plotly.v1+json": {
       "config": {
        "plotlyServerURL": "https://plot.ly"
       },
       "data": [
        {
         "alignmentgroup": "True",
         "hovertemplate": "index=%{x}<br>Share=%{marker.color}<extra></extra>",
         "legendgroup": "",
         "marker": {
          "color": [
           62.73,
           37.27
          ],
          "coloraxis": "coloraxis",
          "pattern": {
           "shape": ""
          }
         },
         "name": "",
         "offsetgroup": "",
         "orientation": "v",
         "showlegend": false,
         "text": [
          62.73,
          37.27
         ],
         "textposition": "outside",
         "type": "bar",
         "x": [
          "False",
          "True"
         ],
         "xaxis": "x",
         "y": [
          62.73,
          37.27
         ],
         "yaxis": "y"
        }
       ],
       "layout": {
        "barmode": "relative",
        "coloraxis": {
         "colorbar": {
          "title": {
           "text": "Share"
          }
         },
         "colorscale": [
          [
           0,
           "#440154"
          ],
          [
           0.1111111111111111,
           "#482878"
          ],
          [
           0.2222222222222222,
           "#3e4989"
          ],
          [
           0.3333333333333333,
           "#31688e"
          ],
          [
           0.4444444444444444,
           "#26828e"
          ],
          [
           0.5555555555555556,
           "#1f9e89"
          ],
          [
           0.6666666666666666,
           "#35b779"
          ],
          [
           0.7777777777777778,
           "#6ece58"
          ],
          [
           0.8888888888888888,
           "#b5de2b"
          ],
          [
           1,
           "#fde725"
          ]
         ]
        },
        "height": 400,
        "legend": {
         "tracegroupgap": 0
        },
        "margin": {
         "b": 100,
         "l": 50,
         "r": 50,
         "t": 50
        },
        "showlegend": false,
        "template": {
         "data": {
          "scatter": [
           {
            "type": "scatter"
           }
          ]
         }
        },
        "title": {
         "text": "Oneway (n = 3397346)"
        },
        "width": 800,
        "xaxis": {
         "anchor": "y",
         "domain": [
          0,
          1
         ],
         "title": {
          "text": "oneway"
         },
         "type": "category"
        },
        "yaxis": {
         "anchor": "x",
         "domain": [
          0,
          1
         ],
         "range": [
          -2,
          2.3
         ],
         "title": {
          "text": "Share"
         },
         "type": "log"
        }
       }
      }
     },
     "metadata": {},
     "output_type": "display_data"
    },
    {
     "data": {
      "application/vnd.plotly.v1+json": {
       "config": {
        "plotlyServerURL": "https://plot.ly"
       },
       "data": [
        {
         "alignmentgroup": "True",
         "hovertemplate": "index=%{x}<br>Share=%{marker.color}<extra></extra>",
         "legendgroup": "",
         "marker": {
          "color": [
           22.14,
           56.6,
           12.9,
           5.73,
           1.81,
           0.64,
           0.09,
           0.08,
           0,
           0
          ],
          "coloraxis": "coloraxis",
          "pattern": {
           "shape": ""
          }
         },
         "name": "",
         "offsetgroup": "",
         "orientation": "v",
         "showlegend": false,
         "text": [
          22.14,
          56.6,
          12.9,
          5.73,
          1.81,
          0.64,
          0.09,
          0.08,
          0,
          0
         ],
         "textposition": "outside",
         "type": "bar",
         "x": [
          "1",
          "2",
          "3",
          "4",
          "5",
          "6",
          "7",
          "8",
          "9",
          "10"
         ],
         "xaxis": "x",
         "y": [
          22.14,
          56.6,
          12.9,
          5.73,
          1.81,
          0.64,
          0.09,
          0.08,
          0,
          0
         ],
         "yaxis": "y"
        }
       ],
       "layout": {
        "barmode": "relative",
        "coloraxis": {
         "colorbar": {
          "title": {
           "text": "Share"
          }
         },
         "colorscale": [
          [
           0,
           "#440154"
          ],
          [
           0.1111111111111111,
           "#482878"
          ],
          [
           0.2222222222222222,
           "#3e4989"
          ],
          [
           0.3333333333333333,
           "#31688e"
          ],
          [
           0.4444444444444444,
           "#26828e"
          ],
          [
           0.5555555555555556,
           "#1f9e89"
          ],
          [
           0.6666666666666666,
           "#35b779"
          ],
          [
           0.7777777777777778,
           "#6ece58"
          ],
          [
           0.8888888888888888,
           "#b5de2b"
          ],
          [
           1,
           "#fde725"
          ]
         ]
        },
        "height": 400,
        "legend": {
         "tracegroupgap": 0
        },
        "margin": {
         "b": 100,
         "l": 50,
         "r": 50,
         "t": 50
        },
        "showlegend": false,
        "template": {
         "data": {
          "scatter": [
           {
            "type": "scatter"
           }
          ]
         }
        },
        "title": {
         "text": "Lanes (n = 1021438)"
        },
        "width": 800,
        "xaxis": {
         "anchor": "y",
         "domain": [
          0,
          1
         ],
         "title": {
          "text": "lanes"
         },
         "type": "category"
        },
        "yaxis": {
         "anchor": "x",
         "domain": [
          0,
          1
         ],
         "range": [
          -2,
          2.3
         ],
         "title": {
          "text": "Share"
         },
         "type": "log"
        }
       }
      }
     },
     "metadata": {},
     "output_type": "display_data"
    },
    {
     "data": {
      "application/vnd.plotly.v1+json": {
       "config": {
        "plotlyServerURL": "https://plot.ly"
       },
       "data": [
        {
         "alignmentgroup": "True",
         "hovertemplate": "index=%{x}<br>Share=%{marker.color}<extra></extra>",
         "legendgroup": "",
         "marker": {
          "color": [
           2.54,
           1.07,
           1.04,
           6.31,
           0.82,
           58.35,
           8.93,
           0.59,
           12.36,
           0.35,
           1.63,
           0.66,
           5.35
          ],
          "coloraxis": "coloraxis",
          "pattern": {
           "shape": ""
          }
         },
         "name": "",
         "offsetgroup": "",
         "orientation": "v",
         "showlegend": false,
         "text": [
          2.54,
          1.07,
          1.04,
          6.31,
          0.82,
          58.35,
          8.93,
          0.59,
          12.36,
          0.35,
          1.63,
          0.66,
          5.35
         ],
         "textposition": "outside",
         "type": "bar",
         "x": [
          "living_street",
          "motorway",
          "motorway_link",
          "primary",
          "primary_link",
          "residential",
          "secondary",
          "secondary_link",
          "tertiary",
          "tertiary_link",
          "trunk",
          "trunk_link",
          "unclassified"
         ],
         "xaxis": "x",
         "y": [
          2.54,
          1.07,
          1.04,
          6.31,
          0.82,
          58.35,
          8.93,
          0.59,
          12.36,
          0.35,
          1.63,
          0.66,
          5.35
         ],
         "yaxis": "y"
        }
       ],
       "layout": {
        "barmode": "relative",
        "coloraxis": {
         "colorbar": {
          "title": {
           "text": "Share"
          }
         },
         "colorscale": [
          [
           0,
           "#440154"
          ],
          [
           0.1111111111111111,
           "#482878"
          ],
          [
           0.2222222222222222,
           "#3e4989"
          ],
          [
           0.3333333333333333,
           "#31688e"
          ],
          [
           0.4444444444444444,
           "#26828e"
          ],
          [
           0.5555555555555556,
           "#1f9e89"
          ],
          [
           0.6666666666666666,
           "#35b779"
          ],
          [
           0.7777777777777778,
           "#6ece58"
          ],
          [
           0.8888888888888888,
           "#b5de2b"
          ],
          [
           1,
           "#fde725"
          ]
         ]
        },
        "height": 400,
        "legend": {
         "tracegroupgap": 0
        },
        "margin": {
         "b": 100,
         "l": 50,
         "r": 50,
         "t": 50
        },
        "showlegend": false,
        "template": {
         "data": {
          "scatter": [
           {
            "type": "scatter"
           }
          ]
         }
        },
        "title": {
         "text": "Highway (n = 3395413)"
        },
        "width": 800,
        "xaxis": {
         "anchor": "y",
         "domain": [
          0,
          1
         ],
         "title": {
          "text": "highway"
         },
         "type": "category"
        },
        "yaxis": {
         "anchor": "x",
         "domain": [
          0,
          1
         ],
         "range": [
          -2,
          2.3
         ],
         "title": {
          "text": "Share"
         },
         "type": "log"
        }
       }
      }
     },
     "metadata": {},
     "output_type": "display_data"
    },
    {
     "data": {
      "application/vnd.plotly.v1+json": {
       "config": {
        "plotlyServerURL": "https://plot.ly"
       },
       "data": [
        {
         "alignmentgroup": "True",
         "hovertemplate": "index=%{x}<br>Share=%{marker.color}<extra></extra>",
         "legendgroup": "",
         "marker": {
          "color": [
           0.03,
           0.01,
           0.22,
           0.06,
           2.25,
           36.32,
           6.12,
           38.72,
           8.39,
           2.55,
           2.81,
           0.78,
           0.79,
           0.29,
           0.4,
           0.17,
           0.07
          ],
          "coloraxis": "coloraxis",
          "pattern": {
           "shape": ""
          }
         },
         "name": "",
         "offsetgroup": "",
         "orientation": "v",
         "showlegend": false,
         "text": [
          0.03,
          0.01,
          0.22,
          0.06,
          2.25,
          36.32,
          6.12,
          38.72,
          8.39,
          2.55,
          2.81,
          0.78,
          0.79,
          0.29,
          0.4,
          0.17,
          0.07
         ],
         "textposition": "outside",
         "type": "bar",
         "x": [
          "5",
          "7",
          "10",
          "15",
          "20",
          "30",
          "40",
          "50",
          "60",
          "70",
          "80",
          "90",
          "100",
          "110",
          "120",
          "130",
          "140"
         ],
         "xaxis": "x",
         "y": [
          0.03,
          0.01,
          0.22,
          0.06,
          2.25,
          36.32,
          6.12,
          38.72,
          8.39,
          2.55,
          2.81,
          0.78,
          0.79,
          0.29,
          0.4,
          0.17,
          0.07
         ],
         "yaxis": "y"
        }
       ],
       "layout": {
        "barmode": "relative",
        "coloraxis": {
         "colorbar": {
          "title": {
           "text": "Share"
          }
         },
         "colorscale": [
          [
           0,
           "#440154"
          ],
          [
           0.1111111111111111,
           "#482878"
          ],
          [
           0.2222222222222222,
           "#3e4989"
          ],
          [
           0.3333333333333333,
           "#31688e"
          ],
          [
           0.4444444444444444,
           "#26828e"
          ],
          [
           0.5555555555555556,
           "#1f9e89"
          ],
          [
           0.6666666666666666,
           "#35b779"
          ],
          [
           0.7777777777777778,
           "#6ece58"
          ],
          [
           0.8888888888888888,
           "#b5de2b"
          ],
          [
           1,
           "#fde725"
          ]
         ]
        },
        "height": 400,
        "legend": {
         "tracegroupgap": 0
        },
        "margin": {
         "b": 100,
         "l": 50,
         "r": 50,
         "t": 50
        },
        "showlegend": false,
        "template": {
         "data": {
          "scatter": [
           {
            "type": "scatter"
           }
          ]
         }
        },
        "title": {
         "text": "Maxspeed (n = 1380324)"
        },
        "width": 800,
        "xaxis": {
         "anchor": "y",
         "domain": [
          0,
          1
         ],
         "title": {
          "text": "maxspeed"
         },
         "type": "category"
        },
        "yaxis": {
         "anchor": "x",
         "domain": [
          0,
          1
         ],
         "range": [
          -2,
          2.3
         ],
         "title": {
          "text": "Share"
         },
         "type": "log"
        }
       }
      }
     },
     "metadata": {},
     "output_type": "display_data"
    },
    {
     "data": {
      "application/vnd.plotly.v1+json": {
       "config": {
        "plotlyServerURL": "https://plot.ly"
       },
       "data": [
        {
         "alignmentgroup": "True",
         "hovertemplate": "index=%{x}<br>Share=%{marker.color}<extra></extra>",
         "legendgroup": "",
         "marker": {
          "color": [
           93.26,
           0.01,
           0.04,
           0.01,
           0.38,
           6.3
          ],
          "coloraxis": "coloraxis",
          "pattern": {
           "shape": ""
          }
         },
         "name": "",
         "offsetgroup": "",
         "orientation": "v",
         "showlegend": false,
         "text": [
          93.26,
          0.01,
          0.04,
          0.01,
          0.38,
          6.3
         ],
         "textposition": "outside",
         "type": "bar",
         "x": [
          "yes",
          "cantilever",
          "covered",
          "low_water_crossing",
          "movable",
          "viaduct"
         ],
         "xaxis": "x",
         "y": [
          93.26,
          0.01,
          0.04,
          0.01,
          0.38,
          6.3
         ],
         "yaxis": "y"
        }
       ],
       "layout": {
        "barmode": "relative",
        "coloraxis": {
         "colorbar": {
          "title": {
           "text": "Share"
          }
         },
         "colorscale": [
          [
           0,
           "#440154"
          ],
          [
           0.1111111111111111,
           "#482878"
          ],
          [
           0.2222222222222222,
           "#3e4989"
          ],
          [
           0.3333333333333333,
           "#31688e"
          ],
          [
           0.4444444444444444,
           "#26828e"
          ],
          [
           0.5555555555555556,
           "#1f9e89"
          ],
          [
           0.6666666666666666,
           "#35b779"
          ],
          [
           0.7777777777777778,
           "#6ece58"
          ],
          [
           0.8888888888888888,
           "#b5de2b"
          ],
          [
           1,
           "#fde725"
          ]
         ]
        },
        "height": 400,
        "legend": {
         "tracegroupgap": 0
        },
        "margin": {
         "b": 100,
         "l": 50,
         "r": 50,
         "t": 50
        },
        "showlegend": false,
        "template": {
         "data": {
          "scatter": [
           {
            "type": "scatter"
           }
          ]
         }
        },
        "title": {
         "text": "Bridge (n = 88971)"
        },
        "width": 800,
        "xaxis": {
         "anchor": "y",
         "domain": [
          0,
          1
         ],
         "title": {
          "text": "bridge"
         },
         "type": "category"
        },
        "yaxis": {
         "anchor": "x",
         "domain": [
          0,
          1
         ],
         "range": [
          -2,
          2.3
         ],
         "title": {
          "text": "Share"
         },
         "type": "log"
        }
       }
      }
     },
     "metadata": {},
     "output_type": "display_data"
    },
    {
     "data": {
      "application/vnd.plotly.v1+json": {
       "config": {
        "plotlyServerURL": "https://plot.ly"
       },
       "data": [
        {
         "alignmentgroup": "True",
         "hovertemplate": "index=%{x}<br>Share=%{marker.color}<extra></extra>",
         "legendgroup": "",
         "marker": {
          "color": [
           38.16,
           24.4,
           1.26,
           33.21,
           0.61,
           0.61,
           1.41,
           0.23,
           0.12
          ],
          "coloraxis": "coloraxis",
          "pattern": {
           "shape": ""
          }
         },
         "name": "",
         "offsetgroup": "",
         "orientation": "v",
         "showlegend": false,
         "text": [
          38.16,
          24.4,
          1.26,
          33.21,
          0.61,
          0.61,
          1.41,
          0.23,
          0.12
         ],
         "textposition": "outside",
         "type": "bar",
         "x": [
          "no",
          "permissive",
          "permit",
          "destination",
          "delivery",
          "customers",
          "designated",
          "agricultural",
          "forestry"
         ],
         "xaxis": "x",
         "y": [
          38.16,
          24.4,
          1.26,
          33.21,
          0.61,
          0.61,
          1.41,
          0.23,
          0.12
         ],
         "yaxis": "y"
        }
       ],
       "layout": {
        "barmode": "relative",
        "coloraxis": {
         "colorbar": {
          "title": {
           "text": "Share"
          }
         },
         "colorscale": [
          [
           0,
           "#440154"
          ],
          [
           0.1111111111111111,
           "#482878"
          ],
          [
           0.2222222222222222,
           "#3e4989"
          ],
          [
           0.3333333333333333,
           "#31688e"
          ],
          [
           0.4444444444444444,
           "#26828e"
          ],
          [
           0.5555555555555556,
           "#1f9e89"
          ],
          [
           0.6666666666666666,
           "#35b779"
          ],
          [
           0.7777777777777778,
           "#6ece58"
          ],
          [
           0.8888888888888888,
           "#b5de2b"
          ],
          [
           1,
           "#fde725"
          ]
         ]
        },
        "height": 400,
        "legend": {
         "tracegroupgap": 0
        },
        "margin": {
         "b": 100,
         "l": 50,
         "r": 50,
         "t": 50
        },
        "showlegend": false,
        "template": {
         "data": {
          "scatter": [
           {
            "type": "scatter"
           }
          ]
         }
        },
        "title": {
         "text": "Access (n = 17297)"
        },
        "width": 800,
        "xaxis": {
         "anchor": "y",
         "domain": [
          0,
          1
         ],
         "title": {
          "text": "access"
         },
         "type": "category"
        },
        "yaxis": {
         "anchor": "x",
         "domain": [
          0,
          1
         ],
         "range": [
          -2,
          2.3
         ],
         "title": {
          "text": "Share"
         },
         "type": "log"
        }
       }
      }
     },
     "metadata": {},
     "output_type": "display_data"
    },
    {
     "data": {
      "application/vnd.plotly.v1+json": {
       "config": {
        "plotlyServerURL": "https://plot.ly"
       },
       "data": [
        {
         "alignmentgroup": "True",
         "hovertemplate": "index=%{x}<br>Share=%{marker.color}<extra></extra>",
         "legendgroup": "",
         "marker": {
          "color": [
           96.39,
           3.61
          ],
          "coloraxis": "coloraxis",
          "pattern": {
           "shape": ""
          }
         },
         "name": "",
         "offsetgroup": "",
         "orientation": "v",
         "showlegend": false,
         "text": [
          96.39,
          3.61
         ],
         "textposition": "outside",
         "type": "bar",
         "x": [
          "roundabout",
          "circular"
         ],
         "xaxis": "x",
         "y": [
          96.39,
          3.61
         ],
         "yaxis": "y"
        }
       ],
       "layout": {
        "barmode": "relative",
        "coloraxis": {
         "colorbar": {
          "title": {
           "text": "Share"
          }
         },
         "colorscale": [
          [
           0,
           "#440154"
          ],
          [
           0.1111111111111111,
           "#482878"
          ],
          [
           0.2222222222222222,
           "#3e4989"
          ],
          [
           0.3333333333333333,
           "#31688e"
          ],
          [
           0.4444444444444444,
           "#26828e"
          ],
          [
           0.5555555555555556,
           "#1f9e89"
          ],
          [
           0.6666666666666666,
           "#35b779"
          ],
          [
           0.7777777777777778,
           "#6ece58"
          ],
          [
           0.8888888888888888,
           "#b5de2b"
          ],
          [
           1,
           "#fde725"
          ]
         ]
        },
        "height": 400,
        "legend": {
         "tracegroupgap": 0
        },
        "margin": {
         "b": 100,
         "l": 50,
         "r": 50,
         "t": 50
        },
        "showlegend": false,
        "template": {
         "data": {
          "scatter": [
           {
            "type": "scatter"
           }
          ]
         }
        },
        "title": {
         "text": "Junction (n = 82826)"
        },
        "width": 800,
        "xaxis": {
         "anchor": "y",
         "domain": [
          0,
          1
         ],
         "title": {
          "text": "junction"
         },
         "type": "category"
        },
        "yaxis": {
         "anchor": "x",
         "domain": [
          0,
          1
         ],
         "range": [
          -2,
          2.3
         ],
         "title": {
          "text": "Share"
         },
         "type": "log"
        }
       }
      }
     },
     "metadata": {},
     "output_type": "display_data"
    },
    {
     "data": {
      "application/vnd.plotly.v1+json": {
       "config": {
        "plotlyServerURL": "https://plot.ly"
       },
       "data": [
        {
         "alignmentgroup": "True",
         "hovertemplate": "index=%{x}<br>Share=%{marker.color}<extra></extra>",
         "legendgroup": "",
         "marker": {
          "color": [
           0.79,
           3.06,
           8.15,
           11.23,
           18.41,
           17.8,
           10.86,
           6.7,
           3.63,
           4.68,
           3.62,
           4.47,
           2.08,
           1.6,
           0.99,
           1.05,
           0.11,
           0.51,
           0.12,
           0.14
          ],
          "coloraxis": "coloraxis",
          "pattern": {
           "shape": ""
          }
         },
         "name": "",
         "offsetgroup": "",
         "orientation": "v",
         "showlegend": false,
         "text": [
          0.79,
          3.06,
          8.15,
          11.23,
          18.41,
          17.8,
          10.86,
          6.7,
          3.63,
          4.68,
          3.62,
          4.47,
          2.08,
          1.6,
          0.99,
          1.05,
          0.11,
          0.51,
          0.12,
          0.14
         ],
         "textposition": "outside",
         "type": "bar",
         "x": [
          "1.0",
          "2.0",
          "3.0",
          "4.0",
          "5.0",
          "6.0",
          "7.0",
          "8.0",
          "9.0",
          "10.0",
          "11.0",
          "12.0",
          "13.0",
          "14.0",
          "15.0",
          "16.0",
          "17.0",
          "18.0",
          "19.0",
          "20.0"
         ],
         "xaxis": "x",
         "y": [
          0.79,
          3.06,
          8.15,
          11.23,
          18.41,
          17.8,
          10.86,
          6.7,
          3.63,
          4.68,
          3.62,
          4.47,
          2.08,
          1.6,
          0.99,
          1.05,
          0.11,
          0.51,
          0.12,
          0.14
         ],
         "yaxis": "y"
        }
       ],
       "layout": {
        "barmode": "relative",
        "coloraxis": {
         "colorbar": {
          "title": {
           "text": "Share"
          }
         },
         "colorscale": [
          [
           0,
           "#440154"
          ],
          [
           0.1111111111111111,
           "#482878"
          ],
          [
           0.2222222222222222,
           "#3e4989"
          ],
          [
           0.3333333333333333,
           "#31688e"
          ],
          [
           0.4444444444444444,
           "#26828e"
          ],
          [
           0.5555555555555556,
           "#1f9e89"
          ],
          [
           0.6666666666666666,
           "#35b779"
          ],
          [
           0.7777777777777778,
           "#6ece58"
          ],
          [
           0.8888888888888888,
           "#b5de2b"
          ],
          [
           1,
           "#fde725"
          ]
         ]
        },
        "height": 400,
        "legend": {
         "tracegroupgap": 0
        },
        "margin": {
         "b": 100,
         "l": 50,
         "r": 50,
         "t": 50
        },
        "showlegend": false,
        "template": {
         "data": {
          "scatter": [
           {
            "type": "scatter"
           }
          ]
         }
        },
        "title": {
         "text": "Width (n = 19684)"
        },
        "width": 800,
        "xaxis": {
         "anchor": "y",
         "domain": [
          0,
          1
         ],
         "title": {
          "text": "width"
         },
         "type": "category"
        },
        "yaxis": {
         "anchor": "x",
         "domain": [
          0,
          1
         ],
         "range": [
          -2,
          2.3
         ],
         "title": {
          "text": "Share"
         },
         "type": "log"
        }
       }
      }
     },
     "metadata": {},
     "output_type": "display_data"
    },
    {
     "data": {
      "application/vnd.plotly.v1+json": {
       "config": {
        "plotlyServerURL": "https://plot.ly"
       },
       "data": [
        {
         "alignmentgroup": "True",
         "hovertemplate": "index=%{x}<br>Share=%{marker.color}<extra></extra>",
         "legendgroup": "",
         "marker": {
          "color": [
           13.19,
           86.81
          ],
          "coloraxis": "coloraxis",
          "pattern": {
           "shape": ""
          }
         },
         "name": "",
         "offsetgroup": "",
         "orientation": "v",
         "showlegend": false,
         "text": [
          13.19,
          86.81
         ],
         "textposition": "outside",
         "type": "bar",
         "x": [
          "building_passage",
          "yes"
         ],
         "xaxis": "x",
         "y": [
          13.19,
          86.81
         ],
         "yaxis": "y"
        }
       ],
       "layout": {
        "barmode": "relative",
        "coloraxis": {
         "colorbar": {
          "title": {
           "text": "Share"
          }
         },
         "colorscale": [
          [
           0,
           "#440154"
          ],
          [
           0.1111111111111111,
           "#482878"
          ],
          [
           0.2222222222222222,
           "#3e4989"
          ],
          [
           0.3333333333333333,
           "#31688e"
          ],
          [
           0.4444444444444444,
           "#26828e"
          ],
          [
           0.5555555555555556,
           "#1f9e89"
          ],
          [
           0.6666666666666666,
           "#35b779"
          ],
          [
           0.7777777777777778,
           "#6ece58"
          ],
          [
           0.8888888888888888,
           "#b5de2b"
          ],
          [
           1,
           "#fde725"
          ]
         ]
        },
        "height": 400,
        "legend": {
         "tracegroupgap": 0
        },
        "margin": {
         "b": 100,
         "l": 50,
         "r": 50,
         "t": 50
        },
        "showlegend": false,
        "template": {
         "data": {
          "scatter": [
           {
            "type": "scatter"
           }
          ]
         }
        },
        "title": {
         "text": "Tunnel (n = 23961)"
        },
        "width": 800,
        "xaxis": {
         "anchor": "y",
         "domain": [
          0,
          1
         ],
         "title": {
          "text": "tunnel"
         },
         "type": "category"
        },
        "yaxis": {
         "anchor": "x",
         "domain": [
          0,
          1
         ],
         "range": [
          -2,
          2.3
         ],
         "title": {
          "text": "Share"
         },
         "type": "log"
        }
       }
      }
     },
     "metadata": {},
     "output_type": "display_data"
    },
    {
     "data": {
      "application/vnd.plotly.v1+json": {
       "config": {
        "plotlyServerURL": "https://plot.ly"
       },
       "data": [
        {
         "alignmentgroup": "True",
         "hovertemplate": "index=%{x}<br>Share=%{marker.color}<extra></extra>",
         "legendgroup": "",
         "marker": {
          "color": [
           9.55,
           87.49,
           0.94,
           0.2,
           0.81,
           0.64,
           0.37
          ],
          "coloraxis": "coloraxis",
          "pattern": {
           "shape": ""
          }
         },
         "name": "",
         "offsetgroup": "",
         "orientation": "v",
         "showlegend": false,
         "text": [
          9.55,
          87.49,
          0.94,
          0.2,
          0.81,
          0.64,
          0.37
         ],
         "textposition": "outside",
         "type": "bar",
         "x": [
          "paved",
          "asphalt",
          "concrete",
          "concrete_prefabricated",
          "unpaved",
          "compacted",
          "ground"
         ],
         "xaxis": "x",
         "y": [
          9.55,
          87.49,
          0.94,
          0.2,
          0.81,
          0.64,
          0.37
         ],
         "yaxis": "y"
        }
       ],
       "layout": {
        "barmode": "relative",
        "coloraxis": {
         "colorbar": {
          "title": {
           "text": "Share"
          }
         },
         "colorscale": [
          [
           0,
           "#440154"
          ],
          [
           0.1111111111111111,
           "#482878"
          ],
          [
           0.2222222222222222,
           "#3e4989"
          ],
          [
           0.3333333333333333,
           "#31688e"
          ],
          [
           0.4444444444444444,
           "#26828e"
          ],
          [
           0.5555555555555556,
           "#1f9e89"
          ],
          [
           0.6666666666666666,
           "#35b779"
          ],
          [
           0.7777777777777778,
           "#6ece58"
          ],
          [
           0.8888888888888888,
           "#b5de2b"
          ],
          [
           1,
           "#fde725"
          ]
         ]
        },
        "height": 400,
        "legend": {
         "tracegroupgap": 0
        },
        "margin": {
         "b": 100,
         "l": 50,
         "r": 50,
         "t": 50
        },
        "showlegend": false,
        "template": {
         "data": {
          "scatter": [
           {
            "type": "scatter"
           }
          ]
         }
        },
        "title": {
         "text": "Surface (n = 1742010)"
        },
        "width": 800,
        "xaxis": {
         "anchor": "y",
         "domain": [
          0,
          1
         ],
         "title": {
          "text": "surface"
         },
         "type": "category"
        },
        "yaxis": {
         "anchor": "x",
         "domain": [
          0,
          1
         ],
         "range": [
          -2,
          2.3
         ],
         "title": {
          "text": "Share"
         },
         "type": "log"
        }
       }
      }
     },
     "metadata": {},
     "output_type": "display_data"
    }
   ],
   "source": [
    "for feature_name, features in feature_items:\n",
    "    feature_counts = pd.DataFrame(edges_long[feature_name].value_counts().reindex(features, fill_value=0))\n",
    "    feature_shares = round(100 * feature_counts / feature_counts.sum(), 2).rename(columns={feature_name: \"Share\"})\n",
    "    feature_shares = feature_shares.set_index(feature_shares.index.map(lambda x: x.split(\"_\", 1)[1]))\n",
    "    fig = px.bar(\n",
    "        feature_shares.reset_index(), \n",
    "        x=\"index\",\n",
    "        y=\"Share\", \n",
    "        text=\"Share\",\n",
    "        color=\"Share\",\n",
    "        width=800,\n",
    "        height=400, \n",
    "        title=(f\"{feature_name.capitalize()} (n = {feature_counts[feature_name].sum()})\"), \n",
    "        log_y=True,\n",
    "    )\n",
    "    fig.update_layout(\n",
    "        xaxis = dict(\n",
    "            # tickmode = 'linear',\n",
    "            type=\"category\",\n",
    "            title = feature_name\n",
    "        ),\n",
    "        yaxis = dict(\n",
    "            title = \"Share\",\n",
    "            range = [-2, 2.3]\n",
    "        ),\n",
    "        margin=dict(l=50, r=50, t=50, b=100),\n",
    "        showlegend=False\n",
    "    )\n",
    "    fig.update_traces( textposition='outside')\n",
    "    fig.write_image(FIGURES_DIR / f\"feature_{feature_name}_shares.jpg\")\n",
    "    fig.show()"
   ]
  },
  {
   "cell_type": "code",
   "execution_count": 29,
   "metadata": {},
   "outputs": [
    {
     "data": {
      "image/png": "[encoded data removed]",
      "text/plain": [
       "<Figure size 720x1440 with 2 Axes>"
      ]
     },
     "metadata": {
      "needs_background": "light"
     },
     "output_type": "display_data"
    }
   ],
   "source": [
    "fig, ax = plt.subplots(1, 1, figsize=(10, 20))\n",
    "sorted_columns_by_notnull_count = list(edges_long.drop(columns=[\"geometry\"]).notnull().sum().sort_values(ascending=False).index)\n",
    "city_feature_occurance = edges_long.groupby(level=[0, 1, 2]).count().div(edges_long.reset_index(level=3)[\"h3_id\"].groupby(level=[0, 1, 2]).count(), axis=0) * 100\n",
    "city_feature_occurance = city_feature_occurance.droplevel(level=0).sort_index().drop(columns=\"geometry\").reindex(columns=sorted_columns_by_notnull_count)\n",
    "sns.heatmap(data=city_feature_occurance, ax=ax, cmap=\"coolwarm\", cbar_kws={\"shrink\": 0.3})\n",
    "plt.ylabel(\"Country-City\")\n",
    "plt.xlabel(\"Feature\")\n",
    "plt.tight_layout()\n",
    "plt.savefig(FIGURES_DIR / \"city_feature_occurance.svg\")"
   ]
  },
  {
   "cell_type": "code",
   "execution_count": 30,
   "metadata": {},
   "outputs": [],
   "source": [
    "# feature_keys = list(map(lambda x: x[0], feature_items))\n",
    "# edges_long_decategorized = edges_long.copy()\n",
    "# for f in tqdm(feature_keys):\n",
    "#     edges_long_decategorized[f] = edges_long_decategorized[f].map(lambda x: x.split(\"_\", 2)[1])\n",
    "#     if f in [\"lanes\", \"maxspeed\", \"width\"]:\n",
    "#         edges_long_decategorized[f] = edges_long_decategorized[f].astype(float)\n",
    "#     else:\n",
    "#         edges_long_decategorized[f] = edges_long_decategorized[f].astype(\"category\")\n",
    "# edges_long_decategorized"
   ]
  },
  {
   "cell_type": "code",
   "execution_count": 31,
   "metadata": {},
   "outputs": [],
   "source": [
    "# sns.pairplot(edges_long_decategorized.reset_index(drop=True).drop(columns=\"geometry\"), vars=feature_keys)"
   ]
  }
 ],
 "metadata": {
  "interpreter": {
   "hash": "d3c344be017dd5dba7ed0744b138aa90728f55fbc920f4ab22618c6bb6b41028"
  },
  "kernelspec": {
   "display_name": "Python 3.8.8 64-bit ('venv': venv)",
   "language": "python",
   "name": "python3"
  },
  "language_info": {
   "codemirror_mode": {
    "name": "ipython",
    "version": 3
   },
   "file_extension": ".py",
   "mimetype": "text/x-python",
   "name": "python",
   "nbconvert_exporter": "python",
   "pygments_lexer": "ipython3",
   "version": "3.9.7"
  },
  "metadata": {
   "interpreter": {
    "hash": "d3c344be017dd5dba7ed0744b138aa90728f55fbc920f4ab22618c6bb6b41028"
   }
  },
  "orig_nbformat": 2
 },
 "nbformat": 4,
 "nbformat_minor": 2
}
