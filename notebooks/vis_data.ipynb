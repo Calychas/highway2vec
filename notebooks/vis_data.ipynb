{
 "cells": [
  {
   "cell_type": "code",
   "execution_count": null,
   "metadata": {},
   "outputs": [],
   "source": [
    "%load_ext autoreload\n",
    "%autoreload 2"
   ]
  },
  {
   "cell_type": "code",
   "execution_count": null,
   "metadata": {},
   "outputs": [],
   "source": [
    "import pandas as pd\n",
    "import geopandas as gpd\n",
    "import numpy as np\n",
    "from src.settings import *\n",
    "from tqdm.auto import tqdm\n",
    "import matplotlib.pyplot as plt\n",
    "from pathlib import Path\n",
    "import plotly.express as px\n",
    "import matplotlib.pyplot as plt\n",
    "import contextily as ctx\n",
    "from keplergl import KeplerGl\n",
    "import gzip\n",
    "from src.tools.configs import DatasetGenerationConfig\n",
    "from src.tools.feature_extraction import SpatialDataset\n",
    "import pickle as pkl\n",
    "from src.tools.feature_extraction import apply_feature_selection, apply_features_mapping, apply_features_assume\n",
    "import seaborn as sns\n",
    "from src.tools.vis_utils import visualize_kepler, save_config\n",
    "\n",
    "\n",
    "tqdm.pandas()"
   ]
  },
  {
   "cell_type": "code",
   "execution_count": null,
   "metadata": {},
   "outputs": [],
   "source": [
    "dataset_filename=\"dataset_2022-11-01_11-39-37.pkl.gz\"\n",
    "\n",
    "ds_path = FEATURES_DIR / dataset_filename\n",
    "with gzip.open(ds_path, \"rb\") as f:\n",
    "    ds: SpatialDataset = pkl.load(f)\n",
    "\n",
    "ds.__annotations__"
   ]
  },
  {
   "cell_type": "code",
   "execution_count": null,
   "metadata": {},
   "outputs": [],
   "source": [
    "ds_config = ds.config\n",
    "cities = ds.cities\n",
    "edges = ds.edges\n",
    "edges_feature_selected = ds.edges_feature_selected\n",
    "hexagons = ds.hexagons\n",
    "hex_agg = ds.hex_agg\n",
    "hex_agg_normalized = ds.hex_agg_normalized\n",
    "random_seed = 42"
   ]
  },
  {
   "cell_type": "code",
   "execution_count": null,
   "metadata": {},
   "outputs": [],
   "source": [
    "# edges_selected = apply_feature_selection(edges, ds_config.featureset_selection)\n",
    "# edges_selected = apply_features_mapping(edges_selected, [{\n",
    "#     \"feature\": \"highway\",\n",
    "#     \"mapping\": {\n",
    "#         \"motorway_link\": \"motorway\",\n",
    "#         \"primary_link\": \"primary\",\n",
    "#         \"secondary_link\": \"secondary\",\n",
    "#         \"tertiary_link\": \"tertiary\",\n",
    "#         \"trunk_link\": \"trunk\"\n",
    "#     }\n",
    "# }])\n",
    "# edges = apply_features_mapping(edges, [{\n",
    "#     \"feature\": \"surface\",\n",
    "#     \"mapping\": {\n",
    "#         \"asphalt\": \"paved\",\n",
    "#         \"paving_stones\": \"paved\",\n",
    "#         \"concrete\": \"paved\",\n",
    "#         \"concrete_prefabricated\": \"paved\",\n",
    "#         \"compacted\": \"unpaved\",\n",
    "#         \"ground\": \"unpaved\"\n",
    "#     }\n",
    "# }])\n",
    "# # edges_selected = apply_features_mapping(edges_selected, [{\n",
    "# #     \"feature\": \"highway\",\n",
    "# #     \"mapping\": {\n",
    "# #         'secondary': 'not_residential', \n",
    "# #         'tertiary': 'not_residential', \n",
    "# #         'living_street': 'not_residential', \n",
    "# #         'primary': 'not_residential', \n",
    "# #         'unclassified': 'not_residential', \n",
    "# #         'motorway': 'not_residential', \n",
    "# #         'trunk': 'not_residential'\n",
    "# #     }\n",
    "# # }])\n",
    "# edges = apply_features_assume(edges, {\n",
    "#       \"surface\": \"paved\",\n",
    "# })\n",
    "# edges_selected"
   ]
  },
  {
   "cell_type": "code",
   "execution_count": null,
   "metadata": {},
   "outputs": [],
   "source": [
    "feature_items = [(a, [f\"{a}_{c}\" for c in b]) for a, b in ds_config.featureset_selection[\"features\"].items()]\n",
    "edges_long = gpd.GeoDataFrame()\n",
    "pbar = tqdm(feature_items)\n",
    "for feature_name, features_superset in pbar:\n",
    "    pbar.set_description(feature_name)\n",
    "    features = list(set(edges_feature_selected.columns) & set(features_superset))\n",
    "    try: \n",
    "        edges_long[feature_name] = edges_feature_selected[features].idxmax(axis=1).astype(\"category\")\n",
    "        edges_long[feature_name][edges_feature_selected[features].sum(axis=1) == 0] = None\n",
    "    except Exception as e:\n",
    "        print(e)\n",
    "edges_long[\"geometry\"] = edges[\"geometry\"]\n",
    "edges_long"
   ]
  },
  {
   "cell_type": "code",
   "execution_count": null,
   "metadata": {},
   "outputs": [],
   "source": [
    "config_name = \"edges_raw\"\n",
    "\n",
    "edges_keplergl = edges_long.astype(str).reset_index().drop(columns=[\"h3_id\"])\n",
    "hexagons_keplergl = hexagons.reset_index().drop(columns=[\"coordinates\", \"parent\", \"children\"])\n",
    "hexagons_keplergl[\"h3_id\"] = hexagons_keplergl[\"h3_id\"].map(lambda x: f\"hex_{x}\")\n",
    "m = visualize_kepler(data={\n",
    "        \"edges\": edges_keplergl,\n",
    "        \"hexagons\": hexagons_keplergl\n",
    "    }, \n",
    "    config_name=config_name)\n",
    "m"
   ]
  },
  {
   "cell_type": "code",
   "execution_count": null,
   "metadata": {},
   "outputs": [],
   "source": [
    "# save_config(m, config_name=config_name)"
   ]
  },
  {
   "cell_type": "code",
   "execution_count": null,
   "metadata": {},
   "outputs": [],
   "source": [
    "plt.style.use('seaborn-paper')"
   ]
  },
  {
   "cell_type": "markdown",
   "metadata": {},
   "source": [
    "# Geo counts\n"
   ]
  },
  {
   "cell_type": "code",
   "execution_count": null,
   "metadata": {},
   "outputs": [],
   "source": [
    "df_index = edges.index.droplevel(3).unique().to_frame().reset_index(drop=True)"
   ]
  },
  {
   "cell_type": "code",
   "execution_count": null,
   "metadata": {},
   "outputs": [],
   "source": [
    "len(df_index)"
   ]
  },
  {
   "cell_type": "code",
   "execution_count": null,
   "metadata": {},
   "outputs": [],
   "source": [
    "df_continents = df_index.groupby(\"continent\")[\"country\"].count().sort_values()\n",
    "ax = df_continents.plot(kind=\"barh\", xlabel=\"Continent\", ylabel=\"Count\")\n",
    "for i, v in enumerate(df_continents):\n",
    "    ax.text(v, i, str(v), color='dimgray', va='center', fontweight='bold')\n",
    "plt.tight_layout()\n",
    "plt.savefig(FIGURES_DIR / \"cities_in_continents_count.png\")\n",
    "ax"
   ]
  },
  {
   "cell_type": "code",
   "execution_count": null,
   "metadata": {},
   "outputs": [],
   "source": [
    "fig, ax = plt.subplots(1, 1, figsize=(6, 10))\n",
    "df_countries = df_index.groupby(\"country\")[\"city\"].count().reset_index().sort_values([\"city\", \"country\"])\n",
    "ax = df_countries.plot(kind=\"barh\", x=\"country\", y=\"city\", xlabel=\"Country\", ax=ax, legend=False)\n",
    "# for i, v in enumerate(df_countries):\n",
    "#     ax.text(v, i, \" \" + str(v), color='dimgray', va='center')\n",
    "plt.xticks(ticks=np.arange(df_countries[\"city\"].max() + 1))\n",
    "plt.tight_layout()\n",
    "plt.savefig(FIGURES_DIR / \"cities_in_countries_count.png\")\n",
    "ax"
   ]
  },
  {
   "cell_type": "markdown",
   "metadata": {},
   "source": [
    "# Edges"
   ]
  },
  {
   "cell_type": "code",
   "execution_count": null,
   "metadata": {},
   "outputs": [],
   "source": [
    "len(edges_long)"
   ]
  },
  {
   "cell_type": "code",
   "execution_count": null,
   "metadata": {},
   "outputs": [],
   "source": [
    "edges[\"u\"].groupby(level=0).count().plot(kind=\"bar\")"
   ]
  },
  {
   "cell_type": "code",
   "execution_count": null,
   "metadata": {},
   "outputs": [],
   "source": [
    "fig, ax = plt.subplots(1, 1, figsize=(10, 6))\n",
    "edges[\"u\"].groupby(level=1).count().plot(kind=\"bar\", ax=ax)"
   ]
  },
  {
   "cell_type": "code",
   "execution_count": null,
   "metadata": {},
   "outputs": [],
   "source": [
    "fig, ax = plt.subplots(1, 1, figsize=(18, 6))\n",
    "# edges.xs(\"Poland\", level=1, drop_level=False)[\"u\"].groupby(level=2).count().plot(kind=\"bar\", ax=ax)\n",
    "edges[\"u\"].groupby(level=2).count().plot(kind=\"bar\", ax=ax)"
   ]
  },
  {
   "cell_type": "markdown",
   "metadata": {},
   "source": [
    "# Hexagons\n"
   ]
  },
  {
   "cell_type": "code",
   "execution_count": null,
   "metadata": {},
   "outputs": [],
   "source": [
    "len(hexagons)"
   ]
  },
  {
   "cell_type": "code",
   "execution_count": null,
   "metadata": {},
   "outputs": [],
   "source": [
    "hexagons[\"parent\"].groupby(level=0).count().plot(kind=\"bar\")"
   ]
  },
  {
   "cell_type": "code",
   "execution_count": null,
   "metadata": {},
   "outputs": [],
   "source": [
    "fig, ax = plt.subplots(1, 1, figsize=(10, 6))\n",
    "hexagons[\"parent\"].groupby(level=1).count().plot(kind=\"bar\", ax=ax)"
   ]
  },
  {
   "cell_type": "code",
   "execution_count": null,
   "metadata": {},
   "outputs": [],
   "source": [
    "fig, ax = plt.subplots(1, 1, figsize=(6, 18))\n",
    "# hexagons.xs(\"Poland\", level=1, drop_level=False)[\"parent\"].groupby(level=2).count().plot(kind=\"bar\", ax=ax)\n",
    "hexagons_in_cities_count = hexagons[\"parent\"].groupby(level=2).count()\\\n",
    ".sort_values()\n",
    "hexagons_in_cities_count.plot(kind=\"barh\", ax=ax, xlabel=\"City\")\n",
    "plt.tight_layout()\n",
    "plt.savefig(FIGURES_DIR / \"hexagons_in_cities_count.png\")"
   ]
  },
  {
   "cell_type": "markdown",
   "metadata": {},
   "source": [
    "# Hex_agg\n"
   ]
  },
  {
   "cell_type": "code",
   "execution_count": null,
   "metadata": {},
   "outputs": [],
   "source": [
    "len(hex_agg)"
   ]
  },
  {
   "cell_type": "code",
   "execution_count": null,
   "metadata": {},
   "outputs": [],
   "source": [
    "hex_agg[\"oneway_True\"].groupby(level=0).count().plot(kind=\"bar\")"
   ]
  },
  {
   "cell_type": "code",
   "execution_count": null,
   "metadata": {},
   "outputs": [],
   "source": [
    "fig, ax = plt.subplots(1, 1, figsize=(10, 6))\n",
    "hex_agg[\"oneway_True\"].groupby(level=1).count().plot(kind=\"bar\", ax=ax)"
   ]
  },
  {
   "cell_type": "code",
   "execution_count": null,
   "metadata": {},
   "outputs": [],
   "source": [
    "fig, ax = plt.subplots(1, 1, figsize=(18, 6))\n",
    "# hex_agg.xs(\"Poland\", level=1, drop_level=False)[\"oneway_True\"].groupby(level=2).count().plot(kind=\"bar\", ax=ax)\n",
    "hex_agg[\"oneway_True\"].groupby(level=2).count().plot(kind=\"bar\", ax=ax)"
   ]
  },
  {
   "cell_type": "markdown",
   "metadata": {},
   "source": [
    "# Features"
   ]
  },
  {
   "cell_type": "code",
   "execution_count": null,
   "metadata": {},
   "outputs": [],
   "source": [
    "import plotly.io as pio\n",
    "print(pio.templates)\n",
    "pio.templates.default = \"none\""
   ]
  },
  {
   "cell_type": "code",
   "execution_count": null,
   "metadata": {},
   "outputs": [],
   "source": [
    "n = len(edges_long)\n",
    "edges_feature_count = pd.DataFrame(edges_long.drop(columns=\"geometry\").notnull().sum().sort_values(ascending=False), columns=[\"count\"])\n",
    "edges_feature_share = round(100 * edges_feature_count / n, 2).rename(columns={\"count\": \"Share\"})\n",
    "fig = px.bar(\n",
    "    edges_feature_share.reset_index(),\n",
    "    x=\"index\",\n",
    "    y=\"Share\", \n",
    "    width=800,\n",
    "    height=400, \n",
    "    title=f\"Feature occurrence in {n} road segments\",\n",
    "    text=\"Share\",\n",
    "    color=\"Share\",\n",
    "    # color_continuous_scale=\"Turbo\",\n",
    ")\n",
    "fig.update_layout(\n",
    "    xaxis = dict(\n",
    "        title = \"Feature\"\n",
    "    ),\n",
    "    yaxis = dict(\n",
    "        title = \"Share\",\n",
    "        range = [-1, 110]\n",
    "    ),\n",
    "    margin=dict(l=50, r=50, t=50, b=50),\n",
    "    showlegend = False   \n",
    ")\n",
    "fig.update_traces( textposition='outside')\n",
    "fig.show()\n",
    "fig.write_image(FIGURES_DIR / \"feature_shares.jpg\")"
   ]
  },
  {
   "cell_type": "code",
   "execution_count": null,
   "metadata": {},
   "outputs": [],
   "source": [
    "for feature_name, features in feature_items:\n",
    "    feature_counts = pd.DataFrame(edges_long[feature_name].value_counts().reindex(features, fill_value=0))\n",
    "    feature_shares = round(100 * feature_counts / feature_counts.sum(), 2).rename(columns={feature_name: \"Share\"})\n",
    "    feature_shares = feature_shares.set_index(feature_shares.index.map(lambda x: x.split(\"_\", 1)[1]))\n",
    "    fig = px.bar(\n",
    "        feature_shares.reset_index(), \n",
    "        x=\"index\",\n",
    "        y=\"Share\", \n",
    "        text=\"Share\",\n",
    "        color=\"Share\",\n",
    "        width=800,\n",
    "        height=400, \n",
    "        title=(f\"{feature_name.capitalize()} (n = {feature_counts[feature_name].sum()})\"), \n",
    "        log_y=True,\n",
    "    )\n",
    "    fig.update_layout(\n",
    "        xaxis = dict(\n",
    "            # tickmode = 'linear',\n",
    "            type=\"category\",\n",
    "            title = feature_name\n",
    "        ),\n",
    "        yaxis = dict(\n",
    "            title = \"Share\",\n",
    "            range = [-2, 2.3]\n",
    "        ),\n",
    "        margin=dict(l=50, r=50, t=50, b=100),\n",
    "        showlegend=False\n",
    "    )\n",
    "    fig.update_traces( textposition='outside')\n",
    "    fig.write_image(FIGURES_DIR / f\"feature_{feature_name}_shares.jpg\")\n",
    "    fig.show()"
   ]
  },
  {
   "cell_type": "code",
   "execution_count": null,
   "metadata": {},
   "outputs": [],
   "source": [
    "fig, ax = plt.subplots(1, 1, figsize=(10, 20))\n",
    "sorted_columns_by_notnull_count = list(edges_long.drop(columns=[\"geometry\"]).notnull().sum().sort_values(ascending=False).index)\n",
    "city_feature_occurance = edges_long.groupby(level=[0, 1, 2]).count().div(edges_long.reset_index(level=3)[\"h3_id\"].groupby(level=[0, 1, 2]).count(), axis=0) * 100\n",
    "city_feature_occurance = city_feature_occurance.droplevel(level=0).sort_index().drop(columns=\"geometry\").reindex(columns=sorted_columns_by_notnull_count)\n",
    "sns.heatmap(data=city_feature_occurance, ax=ax, cmap=\"coolwarm\", cbar_kws={\"shrink\": 0.3})\n",
    "plt.ylabel(\"Country-City\")\n",
    "plt.xlabel(\"Feature\")\n",
    "plt.tight_layout()\n",
    "plt.savefig(FIGURES_DIR / \"city_feature_occurance.svg\")"
   ]
  }
 ],
 "metadata": {
  "kernelspec": {
   "display_name": "Python 3.9.14 ('venv': venv)",
   "language": "python",
   "name": "python3"
  },
  "language_info": {
   "codemirror_mode": {
    "name": "ipython",
    "version": 3
   },
   "file_extension": ".py",
   "mimetype": "text/x-python",
   "name": "python",
   "nbconvert_exporter": "python",
   "pygments_lexer": "ipython3",
   "version": "3.9.14"
  },
  "metadata": {
   "interpreter": {
    "hash": "d3c344be017dd5dba7ed0744b138aa90728f55fbc920f4ab22618c6bb6b41028"
   }
  },
  "vscode": {
   "interpreter": {
    "hash": "a105a9c9c007cd582c8b6247fc84e990a9f763c9f7fefd3f75781f701789a723"
   }
  }
 },
 "nbformat": 4,
 "nbformat_minor": 2
}
